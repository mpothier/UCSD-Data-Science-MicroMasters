{
 "cells": [
  {
   "cell_type": "markdown",
   "metadata": {},
   "source": [
    "# Predicting Success for Kickstarter Campaigns\n",
    "### Abstract\n",
    "Kickstarter is an online funding platform for people trying to get their personal projects off the ground. Projects fall into a variety of categories and usually offer a reward system for donors that reflects their pledge amount.\n",
    "<br><br>\n",
    "The twist is that funding is all or nothing. If a project falls short of its funding goal at the pre-selected deadline, the project fails and the creator receives NO funding (all pledges are returned to their respective donors).\n",
    "<br><br>\n",
    "Therefore both campaign creators AND donors have a strong incentive to make sure that their projects have the best chance of success possible!\n",
    "\n",
    "### Research Questions\n",
    "1. If I'm looking for campaigns to support, how can I determine which are most likely to succeed?\n",
    "    * Are some categories more successful than others?\n",
    "2. If I'm starting a campaign, which factors should I focus on to give it the best chance of success?\n",
    "    * Does it matter where I'm located?\n",
    "    * Does it matter in which month my campaign is launched?\n",
    "\n",
    "### Data Sources\n",
    "(dataset 1) https://www.kaggle.com/wood2174/mapkickstarter <br>\n",
    "(dataset 2) https://www.kaggle.com/kemical/kickstarter-projects"
   ]
  },
  {
   "cell_type": "code",
   "execution_count": 3,
   "metadata": {},
   "outputs": [
    {
     "data": {
      "text/html": [
       "<script>requirejs.config({paths: { 'plotly': ['https://cdn.plot.ly/plotly-latest.min']},});if(!window.Plotly) {{require(['plotly'],function(plotly) {window.Plotly=plotly;});}}</script>"
      ],
      "text/vnd.plotly.v1+html": [
       "<script>requirejs.config({paths: { 'plotly': ['https://cdn.plot.ly/plotly-latest.min']},});if(!window.Plotly) {{require(['plotly'],function(plotly) {window.Plotly=plotly;});}}</script>"
      ]
     },
     "metadata": {},
     "output_type": "display_data"
    }
   ],
   "source": [
    "# Import necessary libraries\n",
    "\n",
    "import pandas as pd\n",
    "import numpy as np\n",
    "from sklearn.metrics import accuracy_score\n",
    "from sklearn.model_selection import train_test_split, cross_val_score, GridSearchCV\n",
    "from sklearn.tree import DecisionTreeClassifier\n",
    "from sklearn.ensemble import RandomForestClassifier\n",
    "import plotly\n",
    "import plotly.graph_objs as go\n",
    "import plotly.figure_factory as ff\n",
    "from plotly.offline import iplot as plot, init_notebook_mode\n",
    "init_notebook_mode(connected=True)"
   ]
  },
  {
   "cell_type": "code",
   "execution_count": 4,
   "metadata": {},
   "outputs": [],
   "source": [
    "filepath = \"data/mapkickstarter/\"\n",
    "df = pd.read_csv(filepath + \"MasterKickstarter.csv\")"
   ]
  },
  {
   "cell_type": "code",
   "execution_count": 5,
   "metadata": {},
   "outputs": [
    {
     "data": {
      "text/plain": [
       "(99036, 57)"
      ]
     },
     "execution_count": 5,
     "metadata": {},
     "output_type": "execute_result"
    }
   ],
   "source": [
    "df.shape"
   ]
  },
  {
   "cell_type": "code",
   "execution_count": 6,
   "metadata": {},
   "outputs": [
    {
     "data": {
      "text/plain": [
       "Index(['Unnamed: 0', 'X1', 'X1_1', 'Country', 'City', 'id', 'name', 'blurb',\n",
       "       'goal', 'pledged', 'status', 'slug', 'disable_communication',\n",
       "       'currency', 'currency_symbol', 'currency_trailing_code', 'deadline',\n",
       "       'state_changed_at', 'created_at', 'launched_at', 'staff_pick',\n",
       "       'backers_count', 'deadlineTime', 'state_changed_atTime',\n",
       "       'created_atTime', 'launched_atTime', 'Categories', 'spotLight',\n",
       "       'pledgedUSD', 'Ex_USd', 'deadlineYM', 'state_changed_atYM',\n",
       "       'created_atYM', 'launched_atYM', 'deadlineY', 'state_changed_atY',\n",
       "       'created_atY', 'launched_atY', 'Pledge_per_person', 'Prct_goal',\n",
       "       'Length_of_kick', 'City_Pop', 'Latitude', 'Longitude', 'County',\n",
       "       'State', 'Backers_as_Prct_of_Pop', 'Backers_as_Prct_of_Pop_YM',\n",
       "       'Backers_as_Prct_of_Pop_Y', 'Days_spent_making_campign',\n",
       "       'Days_inception_to_Deadline', 'Backers_in_city_Y', 'Backers_in_city_YM',\n",
       "       'All_Time_Backers_city', 'Mean_Pledge_City', 'Mean_pledge_city_Y',\n",
       "       'Mean_pledge_city_YM'],\n",
       "      dtype='object')"
      ]
     },
     "execution_count": 6,
     "metadata": {},
     "output_type": "execute_result"
    }
   ],
   "source": [
    "df.keys()"
   ]
  },
  {
   "cell_type": "markdown",
   "metadata": {},
   "source": [
    "## Data Filtering\n",
    "\n",
    "For now we will only use campaigns with USD currency, since there aren't any features that normalize/convert other currencies. Effectively this limits the study to campaigns launched in the United States.\n",
    "<br><br>\n",
    "Additionally, we will select the features that we want to consider for our study."
   ]
  },
  {
   "cell_type": "code",
   "execution_count": 8,
   "metadata": {},
   "outputs": [
    {
     "data": {
      "text/html": [
       "<div>\n",
       "<style scoped>\n",
       "    .dataframe tbody tr th:only-of-type {\n",
       "        vertical-align: middle;\n",
       "    }\n",
       "\n",
       "    .dataframe tbody tr th {\n",
       "        vertical-align: top;\n",
       "    }\n",
       "\n",
       "    .dataframe thead th {\n",
       "        text-align: right;\n",
       "    }\n",
       "</style>\n",
       "<table border=\"1\" class=\"dataframe\">\n",
       "  <thead>\n",
       "    <tr style=\"text-align: right;\">\n",
       "      <th></th>\n",
       "      <th>id</th>\n",
       "      <th>goal</th>\n",
       "      <th>status</th>\n",
       "      <th>Categories</th>\n",
       "      <th>City</th>\n",
       "      <th>State</th>\n",
       "      <th>launched_atYM</th>\n",
       "      <th>Length_of_kick</th>\n",
       "      <th>Days_spent_making_campign</th>\n",
       "      <th>City_Pop</th>\n",
       "      <th>staff_pick</th>\n",
       "    </tr>\n",
       "  </thead>\n",
       "  <tbody>\n",
       "    <tr>\n",
       "      <th>4344</th>\n",
       "      <td>1365968739</td>\n",
       "      <td>4500.0</td>\n",
       "      <td>failed</td>\n",
       "      <td>music</td>\n",
       "      <td>Abilene</td>\n",
       "      <td>texas</td>\n",
       "      <td>16-01</td>\n",
       "      <td>31</td>\n",
       "      <td>7</td>\n",
       "      <td>114247</td>\n",
       "      <td>False</td>\n",
       "    </tr>\n",
       "    <tr>\n",
       "      <th>4345</th>\n",
       "      <td>730363660</td>\n",
       "      <td>1860.0</td>\n",
       "      <td>failed</td>\n",
       "      <td>photography</td>\n",
       "      <td>Abilene</td>\n",
       "      <td>texas</td>\n",
       "      <td>14-08</td>\n",
       "      <td>30</td>\n",
       "      <td>10</td>\n",
       "      <td>114247</td>\n",
       "      <td>False</td>\n",
       "    </tr>\n",
       "    <tr>\n",
       "      <th>4346</th>\n",
       "      <td>982082961</td>\n",
       "      <td>6000.0</td>\n",
       "      <td>successful</td>\n",
       "      <td>music</td>\n",
       "      <td>Abilene</td>\n",
       "      <td>texas</td>\n",
       "      <td>14-02</td>\n",
       "      <td>30</td>\n",
       "      <td>492</td>\n",
       "      <td>114247</td>\n",
       "      <td>False</td>\n",
       "    </tr>\n",
       "    <tr>\n",
       "      <th>4347</th>\n",
       "      <td>1880062664</td>\n",
       "      <td>35551.0</td>\n",
       "      <td>failed</td>\n",
       "      <td>film%20&amp;%20video</td>\n",
       "      <td>Abilene</td>\n",
       "      <td>texas</td>\n",
       "      <td>16-07</td>\n",
       "      <td>30</td>\n",
       "      <td>76</td>\n",
       "      <td>114247</td>\n",
       "      <td>False</td>\n",
       "    </tr>\n",
       "    <tr>\n",
       "      <th>4348</th>\n",
       "      <td>1068762173</td>\n",
       "      <td>10000.0</td>\n",
       "      <td>canceled</td>\n",
       "      <td>film%20&amp;%20video</td>\n",
       "      <td>Abilene</td>\n",
       "      <td>texas</td>\n",
       "      <td>14-07</td>\n",
       "      <td>30</td>\n",
       "      <td>1</td>\n",
       "      <td>114247</td>\n",
       "      <td>False</td>\n",
       "    </tr>\n",
       "  </tbody>\n",
       "</table>\n",
       "</div>"
      ],
      "text/plain": [
       "              id     goal      status        Categories     City  State  \\\n",
       "4344  1365968739   4500.0      failed             music  Abilene  texas   \n",
       "4345   730363660   1860.0      failed       photography  Abilene  texas   \n",
       "4346   982082961   6000.0  successful             music  Abilene  texas   \n",
       "4347  1880062664  35551.0      failed  film%20&%20video  Abilene  texas   \n",
       "4348  1068762173  10000.0    canceled  film%20&%20video  Abilene  texas   \n",
       "\n",
       "     launched_atYM  Length_of_kick  Days_spent_making_campign  City_Pop  \\\n",
       "4344         16-01              31                          7    114247   \n",
       "4345         14-08              30                         10    114247   \n",
       "4346         14-02              30                        492    114247   \n",
       "4347         16-07              30                         76    114247   \n",
       "4348         14-07              30                          1    114247   \n",
       "\n",
       "      staff_pick  \n",
       "4344       False  \n",
       "4345       False  \n",
       "4346       False  \n",
       "4347       False  \n",
       "4348       False  "
      ]
     },
     "execution_count": 8,
     "metadata": {},
     "output_type": "execute_result"
    }
   ],
   "source": [
    "# Filter by currency to extract only USA-based Kickstarters\n",
    "df_filter = df.copy()\n",
    "df_filter = df_filter[df_filter['currency'] == 'USD']\n",
    "\n",
    "# Feature selection\n",
    "features = ['id','goal','status','Categories','City','State','launched_atYM','Length_of_kick','Days_spent_making_campign','City_Pop','staff_pick']\n",
    "df_select = df_filter.copy()[features]\n",
    "df_select.head()"
   ]
  },
  {
   "cell_type": "markdown",
   "metadata": {},
   "source": [
    "## Data Cleaning\n",
    "\n",
    "A few items to note in the data cleaning steps below:\n",
    "1. We will consider 'canceled' projects to have 'failed', since this study is meant to indicate a project's chance of success from the perspective of an outside donor. Therefore we will keep 'successful' as '1' and 'failed/canceled' as '0', dropping all other statuses.\n",
    "2. For now we will only use campaigns with USD currency, since there aren't any features that normalize/convert other currencies. Effectively this limits the study to campaigns launched in the United States.\n",
    "3. We'll need to create a parallel feature to 'Categories' that converts categories to numbers, in order for the DecisionTreeClassifier model that we'll use later on to work. Same for 'City' and 'State'."
   ]
  },
  {
   "cell_type": "code",
   "execution_count": 9,
   "metadata": {},
   "outputs": [
    {
     "data": {
      "text/html": [
       "<div>\n",
       "<style scoped>\n",
       "    .dataframe tbody tr th:only-of-type {\n",
       "        vertical-align: middle;\n",
       "    }\n",
       "\n",
       "    .dataframe tbody tr th {\n",
       "        vertical-align: top;\n",
       "    }\n",
       "\n",
       "    .dataframe thead th {\n",
       "        text-align: right;\n",
       "    }\n",
       "</style>\n",
       "<table border=\"1\" class=\"dataframe\">\n",
       "  <thead>\n",
       "    <tr style=\"text-align: right;\">\n",
       "      <th></th>\n",
       "      <th>id</th>\n",
       "      <th>goal</th>\n",
       "      <th>status</th>\n",
       "      <th>Categories</th>\n",
       "      <th>City</th>\n",
       "      <th>State</th>\n",
       "      <th>launched_atYM</th>\n",
       "      <th>Length_of_kick</th>\n",
       "      <th>Days_spent_making_campign</th>\n",
       "      <th>City_Pop</th>\n",
       "      <th>staff_pick</th>\n",
       "      <th>Cat-Nums</th>\n",
       "      <th>City-Nums</th>\n",
       "      <th>State-Nums</th>\n",
       "    </tr>\n",
       "  </thead>\n",
       "  <tbody>\n",
       "    <tr>\n",
       "      <th>4344</th>\n",
       "      <td>1365968739</td>\n",
       "      <td>4500.0</td>\n",
       "      <td>0</td>\n",
       "      <td>music</td>\n",
       "      <td>Abilene</td>\n",
       "      <td>texas</td>\n",
       "      <td>01</td>\n",
       "      <td>31</td>\n",
       "      <td>7</td>\n",
       "      <td>114247</td>\n",
       "      <td>0</td>\n",
       "      <td>9</td>\n",
       "      <td>914</td>\n",
       "      <td>texas</td>\n",
       "    </tr>\n",
       "    <tr>\n",
       "      <th>4345</th>\n",
       "      <td>730363660</td>\n",
       "      <td>1860.0</td>\n",
       "      <td>0</td>\n",
       "      <td>photography</td>\n",
       "      <td>Abilene</td>\n",
       "      <td>texas</td>\n",
       "      <td>08</td>\n",
       "      <td>30</td>\n",
       "      <td>10</td>\n",
       "      <td>114247</td>\n",
       "      <td>0</td>\n",
       "      <td>1</td>\n",
       "      <td>914</td>\n",
       "      <td>texas</td>\n",
       "    </tr>\n",
       "    <tr>\n",
       "      <th>4346</th>\n",
       "      <td>982082961</td>\n",
       "      <td>6000.0</td>\n",
       "      <td>1</td>\n",
       "      <td>music</td>\n",
       "      <td>Abilene</td>\n",
       "      <td>texas</td>\n",
       "      <td>02</td>\n",
       "      <td>30</td>\n",
       "      <td>492</td>\n",
       "      <td>114247</td>\n",
       "      <td>0</td>\n",
       "      <td>9</td>\n",
       "      <td>914</td>\n",
       "      <td>texas</td>\n",
       "    </tr>\n",
       "    <tr>\n",
       "      <th>4347</th>\n",
       "      <td>1880062664</td>\n",
       "      <td>35551.0</td>\n",
       "      <td>0</td>\n",
       "      <td>film+video</td>\n",
       "      <td>Abilene</td>\n",
       "      <td>texas</td>\n",
       "      <td>07</td>\n",
       "      <td>30</td>\n",
       "      <td>76</td>\n",
       "      <td>114247</td>\n",
       "      <td>0</td>\n",
       "      <td>14</td>\n",
       "      <td>914</td>\n",
       "      <td>texas</td>\n",
       "    </tr>\n",
       "    <tr>\n",
       "      <th>4348</th>\n",
       "      <td>1068762173</td>\n",
       "      <td>10000.0</td>\n",
       "      <td>0</td>\n",
       "      <td>film+video</td>\n",
       "      <td>Abilene</td>\n",
       "      <td>texas</td>\n",
       "      <td>07</td>\n",
       "      <td>30</td>\n",
       "      <td>1</td>\n",
       "      <td>114247</td>\n",
       "      <td>0</td>\n",
       "      <td>14</td>\n",
       "      <td>914</td>\n",
       "      <td>texas</td>\n",
       "    </tr>\n",
       "  </tbody>\n",
       "</table>\n",
       "</div>"
      ],
      "text/plain": [
       "              id     goal  status   Categories     City  State launched_atYM  \\\n",
       "4344  1365968739   4500.0       0        music  Abilene  texas            01   \n",
       "4345   730363660   1860.0       0  photography  Abilene  texas            08   \n",
       "4346   982082961   6000.0       1        music  Abilene  texas            02   \n",
       "4347  1880062664  35551.0       0   film+video  Abilene  texas            07   \n",
       "4348  1068762173  10000.0       0   film+video  Abilene  texas            07   \n",
       "\n",
       "      Length_of_kick  Days_spent_making_campign  City_Pop  staff_pick  \\\n",
       "4344              31                          7    114247           0   \n",
       "4345              30                         10    114247           0   \n",
       "4346              30                        492    114247           0   \n",
       "4347              30                         76    114247           0   \n",
       "4348              30                          1    114247           0   \n",
       "\n",
       "      Cat-Nums  City-Nums State-Nums  \n",
       "4344         9        914      texas  \n",
       "4345         1        914      texas  \n",
       "4346         9        914      texas  \n",
       "4347        14        914      texas  \n",
       "4348        14        914      texas  "
      ]
     },
     "execution_count": 9,
     "metadata": {},
     "output_type": "execute_result"
    }
   ],
   "source": [
    "# Clean up values for later calculations\n",
    "\n",
    "# Change Statuses to binary 1/0 for Success/Fail; remove all other entries\n",
    "df_select['status'] = df_select['status'].replace('successful', 1)\n",
    "df_select['status'] = df_select['status'].replace('failed', 0)\n",
    "df_select['status'] = df_select['status'].replace('canceled', 0)\n",
    "df_select = df_select[(df_select['status'] == 1) | (df_select['status'] == 0)]\n",
    "df_select['status'] = df_select['status'].astype(str).astype(int)\n",
    "\n",
    "# Convert Staff pick to numerical binary\n",
    "df_select['staff_pick'] = df_select['staff_pick']*1\n",
    "\n",
    "df_select['Categories'] = df_select['Categories'].replace('film%20&%20video', 'film+video')\n",
    "df_select['launched_atYM'] = df['launched_atYM'].str.extract('.*-(.*)')\n",
    "\n",
    "# Create parallel categories for City, State and Category with numbers only\n",
    "cities = list(set(df_filter['City']))\n",
    "states = list(set(df_filter['State']))\n",
    "categories = list(set(df_select['Categories']))\n",
    "\n",
    "df_select['Cat-Nums'] = df_select['Categories'].replace(categories, list(range(len(categories))))\n",
    "df_select['City-Nums'] = df_select['City'].replace(cities, list(range(len(cities))))\n",
    "df_select['State-Nums'] = df_select['State'].replace(cities, list(range(len(cities))))\n",
    "\n",
    "\n",
    "# Remove rows with lingering null values\n",
    "df_select = df_select.dropna()\n",
    "\n",
    "df_select.head()"
   ]
  },
  {
   "cell_type": "markdown",
   "metadata": {},
   "source": [
    "First, let's see what the overall success rate is for projects in this dataset:"
   ]
  },
  {
   "cell_type": "code",
   "execution_count": 20,
   "metadata": {},
   "outputs": [
    {
     "data": {
      "text/plain": [
       "0.4192610697166722"
      ]
     },
     "execution_count": 20,
     "metadata": {},
     "output_type": "execute_result"
    }
   ],
   "source": [
    "success_rate = df_select['status'].mean()\n",
    "success_rate"
   ]
  },
  {
   "cell_type": "markdown",
   "metadata": {},
   "source": [
    "About **42%** of projects overall are successfully funded.\n",
    "<br><br>\n",
    "Venturing a hypothesis, let's see if there is are different success rates among the main categories:"
   ]
  },
  {
   "cell_type": "code",
   "execution_count": 11,
   "metadata": {},
   "outputs": [
    {
     "data": {
      "text/html": [
       "<div>\n",
       "<style scoped>\n",
       "    .dataframe tbody tr th:only-of-type {\n",
       "        vertical-align: middle;\n",
       "    }\n",
       "\n",
       "    .dataframe tbody tr th {\n",
       "        vertical-align: top;\n",
       "    }\n",
       "\n",
       "    .dataframe thead th {\n",
       "        text-align: right;\n",
       "    }\n",
       "</style>\n",
       "<table border=\"1\" class=\"dataframe\">\n",
       "  <thead>\n",
       "    <tr style=\"text-align: right;\">\n",
       "      <th></th>\n",
       "      <th>Categories</th>\n",
       "      <th>id</th>\n",
       "      <th>goal</th>\n",
       "      <th>status</th>\n",
       "      <th>Length_of_kick</th>\n",
       "      <th>Days_spent_making_campign</th>\n",
       "      <th>City_Pop</th>\n",
       "      <th>staff_pick</th>\n",
       "      <th>Cat-Nums</th>\n",
       "      <th>City-Nums</th>\n",
       "    </tr>\n",
       "  </thead>\n",
       "  <tbody>\n",
       "    <tr>\n",
       "      <th>0</th>\n",
       "      <td>art</td>\n",
       "      <td>1.077749e+09</td>\n",
       "      <td>18710.927331</td>\n",
       "      <td>0.374497</td>\n",
       "      <td>32.551914</td>\n",
       "      <td>33.826492</td>\n",
       "      <td>1.095829e+06</td>\n",
       "      <td>0.092331</td>\n",
       "      <td>4.0</td>\n",
       "      <td>1200.134414</td>\n",
       "    </tr>\n",
       "    <tr>\n",
       "      <th>1</th>\n",
       "      <td>comics</td>\n",
       "      <td>1.060169e+09</td>\n",
       "      <td>7783.690871</td>\n",
       "      <td>0.640041</td>\n",
       "      <td>30.556017</td>\n",
       "      <td>67.634855</td>\n",
       "      <td>1.099350e+06</td>\n",
       "      <td>0.207469</td>\n",
       "      <td>2.0</td>\n",
       "      <td>1268.482365</td>\n",
       "    </tr>\n",
       "    <tr>\n",
       "      <th>2</th>\n",
       "      <td>crafts</td>\n",
       "      <td>1.091693e+09</td>\n",
       "      <td>10338.137931</td>\n",
       "      <td>0.204981</td>\n",
       "      <td>30.492337</td>\n",
       "      <td>34.455939</td>\n",
       "      <td>5.418500e+05</td>\n",
       "      <td>0.047893</td>\n",
       "      <td>8.0</td>\n",
       "      <td>1259.850575</td>\n",
       "    </tr>\n",
       "    <tr>\n",
       "      <th>3</th>\n",
       "      <td>dance</td>\n",
       "      <td>1.028531e+09</td>\n",
       "      <td>19019.698630</td>\n",
       "      <td>0.657534</td>\n",
       "      <td>30.155251</td>\n",
       "      <td>24.118721</td>\n",
       "      <td>1.763997e+06</td>\n",
       "      <td>0.246575</td>\n",
       "      <td>3.0</td>\n",
       "      <td>1088.744292</td>\n",
       "    </tr>\n",
       "    <tr>\n",
       "      <th>4</th>\n",
       "      <td>design</td>\n",
       "      <td>1.102715e+09</td>\n",
       "      <td>38218.805069</td>\n",
       "      <td>0.887749</td>\n",
       "      <td>33.628244</td>\n",
       "      <td>74.798431</td>\n",
       "      <td>1.434374e+06</td>\n",
       "      <td>0.374170</td>\n",
       "      <td>6.0</td>\n",
       "      <td>1174.631261</td>\n",
       "    </tr>\n",
       "    <tr>\n",
       "      <th>5</th>\n",
       "      <td>fashion</td>\n",
       "      <td>1.035238e+09</td>\n",
       "      <td>18153.502658</td>\n",
       "      <td>0.364442</td>\n",
       "      <td>31.082693</td>\n",
       "      <td>53.228588</td>\n",
       "      <td>1.280850e+06</td>\n",
       "      <td>0.075015</td>\n",
       "      <td>11.0</td>\n",
       "      <td>1189.089781</td>\n",
       "    </tr>\n",
       "    <tr>\n",
       "      <th>6</th>\n",
       "      <td>film+video</td>\n",
       "      <td>1.066851e+09</td>\n",
       "      <td>107586.601322</td>\n",
       "      <td>0.453147</td>\n",
       "      <td>33.628485</td>\n",
       "      <td>41.200489</td>\n",
       "      <td>1.793613e+06</td>\n",
       "      <td>0.087525</td>\n",
       "      <td>14.0</td>\n",
       "      <td>1147.921242</td>\n",
       "    </tr>\n",
       "    <tr>\n",
       "      <th>7</th>\n",
       "      <td>food</td>\n",
       "      <td>1.078181e+09</td>\n",
       "      <td>56667.390687</td>\n",
       "      <td>0.250330</td>\n",
       "      <td>33.565390</td>\n",
       "      <td>55.338177</td>\n",
       "      <td>6.427551e+05</td>\n",
       "      <td>0.093791</td>\n",
       "      <td>0.0</td>\n",
       "      <td>1236.212021</td>\n",
       "    </tr>\n",
       "    <tr>\n",
       "      <th>8</th>\n",
       "      <td>games</td>\n",
       "      <td>1.070333e+09</td>\n",
       "      <td>27971.366096</td>\n",
       "      <td>0.597201</td>\n",
       "      <td>30.548367</td>\n",
       "      <td>62.896112</td>\n",
       "      <td>8.229019e+05</td>\n",
       "      <td>0.205910</td>\n",
       "      <td>7.0</td>\n",
       "      <td>1230.545257</td>\n",
       "    </tr>\n",
       "    <tr>\n",
       "      <th>9</th>\n",
       "      <td>journalism</td>\n",
       "      <td>1.083949e+09</td>\n",
       "      <td>36894.259831</td>\n",
       "      <td>0.141854</td>\n",
       "      <td>33.710674</td>\n",
       "      <td>30.153090</td>\n",
       "      <td>1.082486e+06</td>\n",
       "      <td>0.068820</td>\n",
       "      <td>10.0</td>\n",
       "      <td>1202.488764</td>\n",
       "    </tr>\n",
       "    <tr>\n",
       "      <th>10</th>\n",
       "      <td>music</td>\n",
       "      <td>1.079030e+09</td>\n",
       "      <td>11077.422939</td>\n",
       "      <td>0.542276</td>\n",
       "      <td>35.278283</td>\n",
       "      <td>40.803419</td>\n",
       "      <td>1.298518e+06</td>\n",
       "      <td>0.067549</td>\n",
       "      <td>9.0</td>\n",
       "      <td>1184.484147</td>\n",
       "    </tr>\n",
       "    <tr>\n",
       "      <th>11</th>\n",
       "      <td>photography</td>\n",
       "      <td>1.055361e+09</td>\n",
       "      <td>14456.145351</td>\n",
       "      <td>0.297250</td>\n",
       "      <td>31.398952</td>\n",
       "      <td>34.941947</td>\n",
       "      <td>1.135248e+06</td>\n",
       "      <td>0.101266</td>\n",
       "      <td>1.0</td>\n",
       "      <td>1240.782628</td>\n",
       "    </tr>\n",
       "    <tr>\n",
       "      <th>12</th>\n",
       "      <td>publishing</td>\n",
       "      <td>1.083332e+09</td>\n",
       "      <td>12418.899630</td>\n",
       "      <td>0.363826</td>\n",
       "      <td>33.706925</td>\n",
       "      <td>42.853195</td>\n",
       "      <td>9.879979e+05</td>\n",
       "      <td>0.103851</td>\n",
       "      <td>5.0</td>\n",
       "      <td>1208.276418</td>\n",
       "    </tr>\n",
       "    <tr>\n",
       "      <th>13</th>\n",
       "      <td>technology</td>\n",
       "      <td>1.072904e+09</td>\n",
       "      <td>88732.675021</td>\n",
       "      <td>0.237258</td>\n",
       "      <td>35.100505</td>\n",
       "      <td>56.610765</td>\n",
       "      <td>1.014257e+06</td>\n",
       "      <td>0.094786</td>\n",
       "      <td>12.0</td>\n",
       "      <td>1224.798823</td>\n",
       "    </tr>\n",
       "    <tr>\n",
       "      <th>14</th>\n",
       "      <td>theater</td>\n",
       "      <td>1.061051e+09</td>\n",
       "      <td>55209.404489</td>\n",
       "      <td>0.546633</td>\n",
       "      <td>31.703741</td>\n",
       "      <td>37.440898</td>\n",
       "      <td>1.953753e+06</td>\n",
       "      <td>0.137656</td>\n",
       "      <td>13.0</td>\n",
       "      <td>1092.388529</td>\n",
       "    </tr>\n",
       "  </tbody>\n",
       "</table>\n",
       "</div>"
      ],
      "text/plain": [
       "     Categories            id           goal    status  Length_of_kick  \\\n",
       "0           art  1.077749e+09   18710.927331  0.374497       32.551914   \n",
       "1        comics  1.060169e+09    7783.690871  0.640041       30.556017   \n",
       "2        crafts  1.091693e+09   10338.137931  0.204981       30.492337   \n",
       "3         dance  1.028531e+09   19019.698630  0.657534       30.155251   \n",
       "4        design  1.102715e+09   38218.805069  0.887749       33.628244   \n",
       "5       fashion  1.035238e+09   18153.502658  0.364442       31.082693   \n",
       "6    film+video  1.066851e+09  107586.601322  0.453147       33.628485   \n",
       "7          food  1.078181e+09   56667.390687  0.250330       33.565390   \n",
       "8         games  1.070333e+09   27971.366096  0.597201       30.548367   \n",
       "9    journalism  1.083949e+09   36894.259831  0.141854       33.710674   \n",
       "10        music  1.079030e+09   11077.422939  0.542276       35.278283   \n",
       "11  photography  1.055361e+09   14456.145351  0.297250       31.398952   \n",
       "12   publishing  1.083332e+09   12418.899630  0.363826       33.706925   \n",
       "13   technology  1.072904e+09   88732.675021  0.237258       35.100505   \n",
       "14      theater  1.061051e+09   55209.404489  0.546633       31.703741   \n",
       "\n",
       "    Days_spent_making_campign      City_Pop  staff_pick  Cat-Nums    City-Nums  \n",
       "0                   33.826492  1.095829e+06    0.092331       4.0  1200.134414  \n",
       "1                   67.634855  1.099350e+06    0.207469       2.0  1268.482365  \n",
       "2                   34.455939  5.418500e+05    0.047893       8.0  1259.850575  \n",
       "3                   24.118721  1.763997e+06    0.246575       3.0  1088.744292  \n",
       "4                   74.798431  1.434374e+06    0.374170       6.0  1174.631261  \n",
       "5                   53.228588  1.280850e+06    0.075015      11.0  1189.089781  \n",
       "6                   41.200489  1.793613e+06    0.087525      14.0  1147.921242  \n",
       "7                   55.338177  6.427551e+05    0.093791       0.0  1236.212021  \n",
       "8                   62.896112  8.229019e+05    0.205910       7.0  1230.545257  \n",
       "9                   30.153090  1.082486e+06    0.068820      10.0  1202.488764  \n",
       "10                  40.803419  1.298518e+06    0.067549       9.0  1184.484147  \n",
       "11                  34.941947  1.135248e+06    0.101266       1.0  1240.782628  \n",
       "12                  42.853195  9.879979e+05    0.103851       5.0  1208.276418  \n",
       "13                  56.610765  1.014257e+06    0.094786      12.0  1224.798823  \n",
       "14                  37.440898  1.953753e+06    0.137656      13.0  1092.388529  "
      ]
     },
     "execution_count": 11,
     "metadata": {},
     "output_type": "execute_result"
    }
   ],
   "source": [
    "# Create DataFrame copy grouped by Categories\n",
    "df_select_cats = df_select.copy()\n",
    "df_select_cats = df_select_cats.groupby(['Categories'], as_index=False).mean()\n",
    "df_select_cats"
   ]
  },
  {
   "cell_type": "code",
   "execution_count": 12,
   "metadata": {},
   "outputs": [
    {
     "data": {
      "application/vnd.plotly.v1+json": {
       "data": [
        {
         "dimensions": [
          {
           "label": "Categories",
           "range": [
            0,
            15
           ],
           "ticktext": [
            "food",
            "photography",
            "comics",
            "dance",
            "art",
            "publishing",
            "design",
            "games",
            "crafts",
            "music",
            "journalism",
            "fashion",
            "technology",
            "theater",
            "film+video"
           ],
           "tickvals": [
            0,
            1,
            2,
            3,
            4,
            5,
            6,
            7,
            8,
            9,
            10,
            11,
            12,
            13,
            14
           ],
           "values": [
            4,
            2,
            8,
            3,
            6,
            11,
            14,
            0,
            7,
            10,
            9,
            1,
            5,
            12,
            13
           ]
          },
          {
           "label": "Goal ($)",
           "range": [
            0,
            107586.60132221902
           ],
           "values": [
            18710.927331263654,
            7783.690871369295,
            10338.137931034482,
            19019.698630136987,
            38218.80506940254,
            18153.502658003545,
            107586.60132221902,
            56667.39068692206,
            27971.36609642302,
            36894.25983146067,
            11077.422939068101,
            14456.145351374946,
            12418.899630442933,
            88732.67502102607,
            55209.404488778055
           ]
          },
          {
           "label": "Pre-Launch Duration (Days)",
           "range": [
            24.118721461187214,
            74.79843089921545
           ],
           "values": [
            33.82649189375647,
            67.63485477178423,
            34.45593869731801,
            24.118721461187214,
            74.79843089921545,
            53.22858830478441,
            41.20048864616269,
            55.33817701453104,
            62.89611197511664,
            30.153089887640448,
            40.8034188034188,
            34.941946748144915,
            42.853194794065665,
            56.6107653490328,
            37.440897755610976
           ]
          },
          {
           "label": "Duration (Days)",
           "range": [
            30.15525114155251,
            35.27828324602518
           ],
           "values": [
            32.55191445325975,
            30.556016597510375,
            30.492337164750957,
            30.15525114155251,
            33.62824381412191,
            31.082693443591257,
            33.62848519689566,
            33.56538969616909,
            30.548367029548988,
            33.71067415730337,
            35.27828324602518,
            31.398952422522918,
            33.70692517808366,
            35.100504625735915,
            31.703740648379053
           ]
          },
          {
           "label": "Staff Pick Rate",
           "range": [
            0,
            1
           ],
           "values": [
            0.0923306887432448,
            0.2074688796680498,
            0.04789272030651341,
            0.2465753424657534,
            0.37417018708509353,
            0.07501476668635558,
            0.0875251509054326,
            0.09379128137384413,
            0.20590979782270608,
            0.06882022471910113,
            0.06754893851668045,
            0.10126582278481013,
            0.10385089175727064,
            0.09478553406223718,
            0.1376558603491272
           ]
          },
          {
           "label": "Success Rate",
           "range": [
            0,
            1
           ],
           "values": [
            0.3744969529722893,
            0.6400414937759336,
            0.2049808429118774,
            0.6575342465753424,
            0.8877489438744719,
            0.364441819255759,
            0.45314745616556484,
            0.25033025099075296,
            0.5972006220839814,
            0.14185393258426968,
            0.5422755261464939,
            0.29725010912265387,
            0.36382625461946333,
            0.2372582001682086,
            0.5466334164588529
           ]
          }
         ],
         "line": {
          "color": [
           0.3744969529722893,
           0.6400414937759336,
           0.2049808429118774,
           0.6575342465753424,
           0.8877489438744719,
           0.364441819255759,
           0.45314745616556484,
           0.25033025099075296,
           0.5972006220839814,
           0.14185393258426968,
           0.5422755261464939,
           0.29725010912265387,
           0.36382625461946333,
           0.2372582001682086,
           0.5466334164588529
          ],
          "colorscale": "Jet"
         },
         "type": "parcoords"
        }
       ],
       "layout": {
        "autosize": false,
        "height": 600,
        "title": "AVERAGE KICKSTARTER METRICS BY CATEGORY",
        "width": 960
       }
      },
      "text/html": [
       "<div id=\"8d7cbc7e-1b1d-4b71-903d-47548361b5aa\" style=\"height: 600px; width: 960px;\" class=\"plotly-graph-div\"></div><script type=\"text/javascript\">require([\"plotly\"], function(Plotly) { window.PLOTLYENV=window.PLOTLYENV || {};window.PLOTLYENV.BASE_URL=\"https://plot.ly\";Plotly.newPlot(\"8d7cbc7e-1b1d-4b71-903d-47548361b5aa\", [{\"type\": \"parcoords\", \"line\": {\"color\": [0.3744969529722893, 0.6400414937759336, 0.2049808429118774, 0.6575342465753424, 0.8877489438744719, 0.364441819255759, 0.45314745616556484, 0.25033025099075296, 0.5972006220839814, 0.14185393258426968, 0.5422755261464939, 0.29725010912265387, 0.36382625461946333, 0.2372582001682086, 0.5466334164588529], \"colorscale\": \"Jet\"}, \"dimensions\": [{\"range\": [0, 15], \"tickvals\": [0, 1, 2, 3, 4, 5, 6, 7, 8, 9, 10, 11, 12, 13, 14], \"ticktext\": [\"food\", \"photography\", \"comics\", \"dance\", \"art\", \"publishing\", \"design\", \"games\", \"crafts\", \"music\", \"journalism\", \"fashion\", \"technology\", \"theater\", \"film+video\"], \"label\": \"Categories\", \"values\": [4, 2, 8, 3, 6, 11, 14, 0, 7, 10, 9, 1, 5, 12, 13]}, {\"range\": [0, 107586.60132221902], \"label\": \"Goal ($)\", \"values\": [18710.927331263654, 7783.690871369295, 10338.137931034482, 19019.698630136987, 38218.80506940254, 18153.502658003545, 107586.60132221902, 56667.39068692206, 27971.36609642302, 36894.25983146067, 11077.422939068101, 14456.145351374946, 12418.899630442933, 88732.67502102607, 55209.404488778055]}, {\"range\": [24.118721461187214, 74.79843089921545], \"label\": \"Pre-Launch Duration (Days)\", \"values\": [33.82649189375647, 67.63485477178423, 34.45593869731801, 24.118721461187214, 74.79843089921545, 53.22858830478441, 41.20048864616269, 55.33817701453104, 62.89611197511664, 30.153089887640448, 40.8034188034188, 34.941946748144915, 42.853194794065665, 56.6107653490328, 37.440897755610976]}, {\"range\": [30.15525114155251, 35.27828324602518], \"label\": \"Duration (Days)\", \"values\": [32.55191445325975, 30.556016597510375, 30.492337164750957, 30.15525114155251, 33.62824381412191, 31.082693443591257, 33.62848519689566, 33.56538969616909, 30.548367029548988, 33.71067415730337, 35.27828324602518, 31.398952422522918, 33.70692517808366, 35.100504625735915, 31.703740648379053]}, {\"range\": [0, 1], \"label\": \"Staff Pick Rate\", \"values\": [0.0923306887432448, 0.2074688796680498, 0.04789272030651341, 0.2465753424657534, 0.37417018708509353, 0.07501476668635558, 0.0875251509054326, 0.09379128137384413, 0.20590979782270608, 0.06882022471910113, 0.06754893851668045, 0.10126582278481013, 0.10385089175727064, 0.09478553406223718, 0.1376558603491272]}, {\"range\": [0, 1], \"label\": \"Success Rate\", \"values\": [0.3744969529722893, 0.6400414937759336, 0.2049808429118774, 0.6575342465753424, 0.8877489438744719, 0.364441819255759, 0.45314745616556484, 0.25033025099075296, 0.5972006220839814, 0.14185393258426968, 0.5422755261464939, 0.29725010912265387, 0.36382625461946333, 0.2372582001682086, 0.5466334164588529]}]}], {\"title\": \"AVERAGE KICKSTARTER METRICS BY CATEGORY\", \"autosize\": false, \"width\": 960, \"height\": 600}, {\"showLink\": true, \"linkText\": \"Export to plot.ly\"})});</script>"
      ],
      "text/vnd.plotly.v1+html": [
       "<div id=\"8d7cbc7e-1b1d-4b71-903d-47548361b5aa\" style=\"height: 600px; width: 960px;\" class=\"plotly-graph-div\"></div><script type=\"text/javascript\">require([\"plotly\"], function(Plotly) { window.PLOTLYENV=window.PLOTLYENV || {};window.PLOTLYENV.BASE_URL=\"https://plot.ly\";Plotly.newPlot(\"8d7cbc7e-1b1d-4b71-903d-47548361b5aa\", [{\"type\": \"parcoords\", \"line\": {\"color\": [0.3744969529722893, 0.6400414937759336, 0.2049808429118774, 0.6575342465753424, 0.8877489438744719, 0.364441819255759, 0.45314745616556484, 0.25033025099075296, 0.5972006220839814, 0.14185393258426968, 0.5422755261464939, 0.29725010912265387, 0.36382625461946333, 0.2372582001682086, 0.5466334164588529], \"colorscale\": \"Jet\"}, \"dimensions\": [{\"range\": [0, 15], \"tickvals\": [0, 1, 2, 3, 4, 5, 6, 7, 8, 9, 10, 11, 12, 13, 14], \"ticktext\": [\"food\", \"photography\", \"comics\", \"dance\", \"art\", \"publishing\", \"design\", \"games\", \"crafts\", \"music\", \"journalism\", \"fashion\", \"technology\", \"theater\", \"film+video\"], \"label\": \"Categories\", \"values\": [4, 2, 8, 3, 6, 11, 14, 0, 7, 10, 9, 1, 5, 12, 13]}, {\"range\": [0, 107586.60132221902], \"label\": \"Goal ($)\", \"values\": [18710.927331263654, 7783.690871369295, 10338.137931034482, 19019.698630136987, 38218.80506940254, 18153.502658003545, 107586.60132221902, 56667.39068692206, 27971.36609642302, 36894.25983146067, 11077.422939068101, 14456.145351374946, 12418.899630442933, 88732.67502102607, 55209.404488778055]}, {\"range\": [24.118721461187214, 74.79843089921545], \"label\": \"Pre-Launch Duration (Days)\", \"values\": [33.82649189375647, 67.63485477178423, 34.45593869731801, 24.118721461187214, 74.79843089921545, 53.22858830478441, 41.20048864616269, 55.33817701453104, 62.89611197511664, 30.153089887640448, 40.8034188034188, 34.941946748144915, 42.853194794065665, 56.6107653490328, 37.440897755610976]}, {\"range\": [30.15525114155251, 35.27828324602518], \"label\": \"Duration (Days)\", \"values\": [32.55191445325975, 30.556016597510375, 30.492337164750957, 30.15525114155251, 33.62824381412191, 31.082693443591257, 33.62848519689566, 33.56538969616909, 30.548367029548988, 33.71067415730337, 35.27828324602518, 31.398952422522918, 33.70692517808366, 35.100504625735915, 31.703740648379053]}, {\"range\": [0, 1], \"label\": \"Staff Pick Rate\", \"values\": [0.0923306887432448, 0.2074688796680498, 0.04789272030651341, 0.2465753424657534, 0.37417018708509353, 0.07501476668635558, 0.0875251509054326, 0.09379128137384413, 0.20590979782270608, 0.06882022471910113, 0.06754893851668045, 0.10126582278481013, 0.10385089175727064, 0.09478553406223718, 0.1376558603491272]}, {\"range\": [0, 1], \"label\": \"Success Rate\", \"values\": [0.3744969529722893, 0.6400414937759336, 0.2049808429118774, 0.6575342465753424, 0.8877489438744719, 0.364441819255759, 0.45314745616556484, 0.25033025099075296, 0.5972006220839814, 0.14185393258426968, 0.5422755261464939, 0.29725010912265387, 0.36382625461946333, 0.2372582001682086, 0.5466334164588529]}]}], {\"title\": \"AVERAGE KICKSTARTER METRICS BY CATEGORY\", \"autosize\": false, \"width\": 960, \"height\": 600}, {\"showLink\": true, \"linkText\": \"Export to plot.ly\"})});</script>"
      ]
     },
     "metadata": {},
     "output_type": "display_data"
    }
   ],
   "source": [
    "df_select_cats['Cat-Nums'] = df_select_cats['Categories'].replace(categories, list(range(15)))\n",
    "\n",
    "data = [\n",
    "    go.Parcoords(\n",
    "        line = dict(\n",
    "                  color = df_select_cats['status'],\n",
    "                  colorscale = 'Jet'\n",
    "                   ),\n",
    "        dimensions = [\n",
    "            dict(range = [0,15],\n",
    "                tickvals = list(range(15)),\n",
    "                ticktext = categories,\n",
    "                label = 'Categories', \n",
    "                 values = df_select_cats['Cat-Nums']\n",
    "                ),\n",
    "            dict(range = [0,df_select_cats['goal'].max()],\n",
    "                 label = 'Goal ($)', \n",
    "                 values = df_select_cats['goal']\n",
    "                ),\n",
    "            dict(range = [df_select_cats['Days_spent_making_campign'].min(),df_select_cats['Days_spent_making_campign'].max()],\n",
    "                 label = 'Pre-Launch Duration (Days)', \n",
    "                 values = df_select_cats['Days_spent_making_campign']\n",
    "                ),\n",
    "            dict(range = [df_select_cats['Length_of_kick'].min(),df_select_cats['Length_of_kick'].max()],\n",
    "                 label = 'Duration (Days)', \n",
    "                 values = df_select_cats['Length_of_kick']\n",
    "                ),\n",
    "            dict(range = [0,1],\n",
    "                 label = 'Staff Pick Rate', \n",
    "                 values = df_select_cats['staff_pick']\n",
    "                ),\n",
    "            dict(range = [0,1],\n",
    "                 label = 'Success Rate', \n",
    "                 values = df_select_cats['status']\n",
    "                )\n",
    "        ]\n",
    "    )\n",
    "]\n",
    "\n",
    "layout = go.Layout(\n",
    "    title='Average Kickstarter Metrics by Category'.upper(),\n",
    "    autosize=False,\n",
    "    width=960,\n",
    "    height=600,\n",
    ")\n",
    "\n",
    "fig = go.Figure(data=data, layout=layout)\n",
    "plot(fig, filename = 'kickstarter-categories_parallel-coordinates')"
   ]
  },
  {
   "cell_type": "code",
   "execution_count": 25,
   "metadata": {
    "scrolled": false
   },
   "outputs": [
    {
     "data": {
      "application/vnd.plotly.v1+json": {
       "data": [
        {
         "name": "Success Rate by Category",
         "type": "bar",
         "x": [
          "design",
          "dance",
          "comics",
          "games",
          "theater",
          "music",
          "film+video",
          "art",
          "fashion",
          "publishing",
          "photography",
          "food",
          "technology",
          "crafts",
          "journalism"
         ],
         "y": [
          0.8877489438744719,
          0.6575342465753424,
          0.6400414937759336,
          0.5972006220839814,
          0.5466334164588529,
          0.5422755261464939,
          0.45314745616556484,
          0.3744969529722893,
          0.364441819255759,
          0.36382625461946333,
          0.29725010912265387,
          0.25033025099075296,
          0.2372582001682086,
          0.2049808429118774,
          0.14185393258426968
         ]
        },
        {
         "mode": "lines",
         "name": "Overall Success Rate",
         "type": "scatter",
         "x": [
          "design",
          "dance",
          "comics",
          "games",
          "theater",
          "music",
          "film+video",
          "art",
          "fashion",
          "publishing",
          "photography",
          "food",
          "technology",
          "crafts",
          "journalism"
         ],
         "y": [
          0.4192610697166722,
          0.4192610697166722,
          0.4192610697166722,
          0.4192610697166722,
          0.4192610697166722,
          0.4192610697166722,
          0.4192610697166722,
          0.4192610697166722,
          0.4192610697166722,
          0.4192610697166722,
          0.4192610697166722,
          0.4192610697166722,
          0.4192610697166722,
          0.4192610697166722,
          0.4192610697166722
         ]
        }
       ],
       "layout": {
        "autosize": false,
        "height": 600,
        "hovermode": "closest",
        "title": "Average Success Rate by Category",
        "width": 960,
        "xaxis": {
         "tickangle": 45,
         "title": "Categories"
        },
        "yaxis": {
         "range": [
          0,
          1
         ],
         "title": "Average Success Rate"
        }
       }
      },
      "text/html": [
       "<div id=\"151e62f8-9f6c-466c-b7ab-e602d0350dbd\" style=\"height: 600px; width: 960px;\" class=\"plotly-graph-div\"></div><script type=\"text/javascript\">require([\"plotly\"], function(Plotly) { window.PLOTLYENV=window.PLOTLYENV || {};window.PLOTLYENV.BASE_URL=\"https://plot.ly\";Plotly.newPlot(\"151e62f8-9f6c-466c-b7ab-e602d0350dbd\", [{\"type\": \"bar\", \"x\": [\"design\", \"dance\", \"comics\", \"games\", \"theater\", \"music\", \"film+video\", \"art\", \"fashion\", \"publishing\", \"photography\", \"food\", \"technology\", \"crafts\", \"journalism\"], \"y\": [0.8877489438744719, 0.6575342465753424, 0.6400414937759336, 0.5972006220839814, 0.5466334164588529, 0.5422755261464939, 0.45314745616556484, 0.3744969529722893, 0.364441819255759, 0.36382625461946333, 0.29725010912265387, 0.25033025099075296, 0.2372582001682086, 0.2049808429118774, 0.14185393258426968], \"name\": \"Success Rate by Category\"}, {\"type\": \"scatter\", \"x\": [\"design\", \"dance\", \"comics\", \"games\", \"theater\", \"music\", \"film+video\", \"art\", \"fashion\", \"publishing\", \"photography\", \"food\", \"technology\", \"crafts\", \"journalism\"], \"y\": [0.4192610697166722, 0.4192610697166722, 0.4192610697166722, 0.4192610697166722, 0.4192610697166722, 0.4192610697166722, 0.4192610697166722, 0.4192610697166722, 0.4192610697166722, 0.4192610697166722, 0.4192610697166722, 0.4192610697166722, 0.4192610697166722, 0.4192610697166722, 0.4192610697166722], \"mode\": \"lines\", \"name\": \"Overall Success Rate\"}], {\"title\": \"Average Success Rate by Category\", \"yaxis\": {\"title\": \"Average Success Rate\", \"range\": [0, 1]}, \"xaxis\": {\"title\": \"Categories\", \"tickangle\": 45}, \"autosize\": false, \"width\": 960, \"height\": 600, \"hovermode\": \"closest\"}, {\"showLink\": true, \"linkText\": \"Export to plot.ly\"})});</script>"
      ],
      "text/vnd.plotly.v1+html": [
       "<div id=\"151e62f8-9f6c-466c-b7ab-e602d0350dbd\" style=\"height: 600px; width: 960px;\" class=\"plotly-graph-div\"></div><script type=\"text/javascript\">require([\"plotly\"], function(Plotly) { window.PLOTLYENV=window.PLOTLYENV || {};window.PLOTLYENV.BASE_URL=\"https://plot.ly\";Plotly.newPlot(\"151e62f8-9f6c-466c-b7ab-e602d0350dbd\", [{\"type\": \"bar\", \"x\": [\"design\", \"dance\", \"comics\", \"games\", \"theater\", \"music\", \"film+video\", \"art\", \"fashion\", \"publishing\", \"photography\", \"food\", \"technology\", \"crafts\", \"journalism\"], \"y\": [0.8877489438744719, 0.6575342465753424, 0.6400414937759336, 0.5972006220839814, 0.5466334164588529, 0.5422755261464939, 0.45314745616556484, 0.3744969529722893, 0.364441819255759, 0.36382625461946333, 0.29725010912265387, 0.25033025099075296, 0.2372582001682086, 0.2049808429118774, 0.14185393258426968], \"name\": \"Success Rate by Category\"}, {\"type\": \"scatter\", \"x\": [\"design\", \"dance\", \"comics\", \"games\", \"theater\", \"music\", \"film+video\", \"art\", \"fashion\", \"publishing\", \"photography\", \"food\", \"technology\", \"crafts\", \"journalism\"], \"y\": [0.4192610697166722, 0.4192610697166722, 0.4192610697166722, 0.4192610697166722, 0.4192610697166722, 0.4192610697166722, 0.4192610697166722, 0.4192610697166722, 0.4192610697166722, 0.4192610697166722, 0.4192610697166722, 0.4192610697166722, 0.4192610697166722, 0.4192610697166722, 0.4192610697166722], \"mode\": \"lines\", \"name\": \"Overall Success Rate\"}], {\"title\": \"Average Success Rate by Category\", \"yaxis\": {\"title\": \"Average Success Rate\", \"range\": [0, 1]}, \"xaxis\": {\"title\": \"Categories\", \"tickangle\": 45}, \"autosize\": false, \"width\": 960, \"height\": 600, \"hovermode\": \"closest\"}, {\"showLink\": true, \"linkText\": \"Export to plot.ly\"})});</script>"
      ]
     },
     "metadata": {},
     "output_type": "display_data"
    }
   ],
   "source": [
    "df_select_cats = df_select_cats.sort_values(by=['status'], ascending=False)\n",
    "\n",
    "data = [\n",
    "    go.Bar(\n",
    "        x=df_select_cats['Categories'],\n",
    "        y=df_select_cats['status'],\n",
    "        name='Success Rate by Category'\n",
    "    ),\n",
    "    go.Scatter(\n",
    "        x=df_select_cats['Categories'],\n",
    "        y=[success_rate for cat in df_select_cats['Categories']],\n",
    "        mode='lines',\n",
    "        name='Overall Success Rate'\n",
    "    )\n",
    "]\n",
    "\n",
    "layout = go.Layout(\n",
    "    title='Average Success Rate by Category',\n",
    "    yaxis={'title': 'Average Success Rate', 'range': [0,1]},\n",
    "    xaxis={'title': 'Categories', 'tickangle': 45},\n",
    "    autosize=False,\n",
    "    width=960,\n",
    "    height=600,\n",
    "    hovermode='closest'\n",
    ")\n",
    "\n",
    "fig = go.Figure(data=data, layout=layout)\n",
    "plot(fig, filename='avg-success-rate-by-category')"
   ]
  },
  {
   "cell_type": "markdown",
   "metadata": {},
   "source": [
    "Finally, let's see how much of a boost a campaign receives if labeled as a \"Staff Pick\":"
   ]
  },
  {
   "cell_type": "code",
   "execution_count": 14,
   "metadata": {},
   "outputs": [
    {
     "data": {
      "text/html": [
       "<div>\n",
       "<style scoped>\n",
       "    .dataframe tbody tr th:only-of-type {\n",
       "        vertical-align: middle;\n",
       "    }\n",
       "\n",
       "    .dataframe tbody tr th {\n",
       "        vertical-align: top;\n",
       "    }\n",
       "\n",
       "    .dataframe thead th {\n",
       "        text-align: right;\n",
       "    }\n",
       "</style>\n",
       "<table border=\"1\" class=\"dataframe\">\n",
       "  <thead>\n",
       "    <tr style=\"text-align: right;\">\n",
       "      <th></th>\n",
       "      <th>staff_pick</th>\n",
       "      <th>id</th>\n",
       "      <th>goal</th>\n",
       "      <th>status</th>\n",
       "      <th>Length_of_kick</th>\n",
       "      <th>Days_spent_making_campign</th>\n",
       "      <th>City_Pop</th>\n",
       "      <th>Cat-Nums</th>\n",
       "      <th>City-Nums</th>\n",
       "    </tr>\n",
       "  </thead>\n",
       "  <tbody>\n",
       "    <tr>\n",
       "      <th>0</th>\n",
       "      <td>0</td>\n",
       "      <td>1.075390e+09</td>\n",
       "      <td>36891.891039</td>\n",
       "      <td>0.372683</td>\n",
       "      <td>33.949108</td>\n",
       "      <td>42.895471</td>\n",
       "      <td>1.107842e+06</td>\n",
       "      <td>7.840833</td>\n",
       "      <td>1205.229543</td>\n",
       "    </tr>\n",
       "    <tr>\n",
       "      <th>1</th>\n",
       "      <td>1</td>\n",
       "      <td>1.080529e+09</td>\n",
       "      <td>21865.249617</td>\n",
       "      <td>0.835791</td>\n",
       "      <td>32.747198</td>\n",
       "      <td>63.601864</td>\n",
       "      <td>1.763350e+06</td>\n",
       "      <td>7.433054</td>\n",
       "      <td>1135.564940</td>\n",
       "    </tr>\n",
       "  </tbody>\n",
       "</table>\n",
       "</div>"
      ],
      "text/plain": [
       "   staff_pick            id          goal    status  Length_of_kick  \\\n",
       "0           0  1.075390e+09  36891.891039  0.372683       33.949108   \n",
       "1           1  1.080529e+09  21865.249617  0.835791       32.747198   \n",
       "\n",
       "   Days_spent_making_campign      City_Pop  Cat-Nums    City-Nums  \n",
       "0                  42.895471  1.107842e+06  7.840833  1205.229543  \n",
       "1                  63.601864  1.763350e+06  7.433054  1135.564940  "
      ]
     },
     "execution_count": 14,
     "metadata": {},
     "output_type": "execute_result"
    }
   ],
   "source": [
    "df_staff = df_select.copy()\n",
    "df_staff = df_staff.groupby(['staff_pick'], as_index=False).mean()\n",
    "df_staff"
   ]
  },
  {
   "cell_type": "markdown",
   "metadata": {},
   "source": [
    "**Staff picks** alone are a tremendous indicator of success for a campaign. As shown above, a whopping **84%** of projects marked as \"Staff pick\" have been successfully funded, compared to just 37% of all other campaigns. Note that overall about 42% of projects get funded (though I've seen 36-44% according to various other sources)."
   ]
  },
  {
   "cell_type": "markdown",
   "metadata": {},
   "source": [
    "## Decision Tree Classifier\n",
    "\n",
    "Split the data into training and test groups, and use a Decision Tree Classifier from Scikit-Learn to predict the success of a Kickstarter campaign."
   ]
  },
  {
   "cell_type": "code",
   "execution_count": 17,
   "metadata": {},
   "outputs": [],
   "source": [
    "# Set up X and y variables for test/train/split Decision Tree Classifier model\n",
    "\n",
    "test_features = ['goal','Cat-Nums','City-Nums','launched_atYM','Length_of_kick','Days_spent_making_campign','City_Pop','staff_pick']\n",
    "X = df_select[test_features].copy()\n",
    "y = df_select[['status']].copy()\n",
    "\n",
    "X_train, X_test, y_train, y_test = train_test_split(X, y, test_size=0.33, random_state=324)"
   ]
  },
  {
   "cell_type": "code",
   "execution_count": 18,
   "metadata": {},
   "outputs": [
    {
     "data": {
      "text/plain": [
       "0.6392823757819803"
      ]
     },
     "execution_count": 18,
     "metadata": {},
     "output_type": "execute_result"
    }
   ],
   "source": [
    "success_classifier = DecisionTreeClassifier()\n",
    "success_classifier.fit(X_train, y_train)\n",
    "predictions = success_classifier.predict(X_test)\n",
    "accuracy_score(y_true = y_test, y_pred = predictions)"
   ]
  },
  {
   "cell_type": "markdown",
   "metadata": {},
   "source": [
    "The classifier is able to predict a campaign's success about **64%** of the time.\n",
    "It isn't clear yet if this accuracy score is strong or weak, but there is definitely room to improve.\n",
    "\n",
    "However, there are additional metrics that aren't included in this dataset, but which I believe have the potential to move the needle. Additionally, we can begin to tune the parameters of our classifier(s)."
   ]
  },
  {
   "cell_type": "markdown",
   "metadata": {},
   "source": [
    "\n",
    "## Alternative Dataset\n",
    "Let's check out an alternative dataset that includes sub-categories to see if this additional categorical granularity helps improve the predictive success rate."
   ]
  },
  {
   "cell_type": "code",
   "execution_count": 220,
   "metadata": {},
   "outputs": [],
   "source": [
    "filepath2 = \"data/kickstarter-projects/\"\n",
    "df2 = pd.read_csv(filepath2 + \"ks-projects-201801.csv\", encoding = 'ISO-8859-1', low_memory=False)"
   ]
  },
  {
   "cell_type": "code",
   "execution_count": 221,
   "metadata": {},
   "outputs": [
    {
     "data": {
      "text/plain": [
       "Index(['ID', 'name', 'category', 'main_category', 'currency', 'deadline',\n",
       "       'goal', 'launched', 'pledged', 'state', 'backers', 'country',\n",
       "       'usd pledged', 'usd_pledged_real', 'usd_goal_real'],\n",
       "      dtype='object')"
      ]
     },
     "execution_count": 221,
     "metadata": {},
     "output_type": "execute_result"
    }
   ],
   "source": [
    "df2.keys()"
   ]
  },
  {
   "cell_type": "code",
   "execution_count": 222,
   "metadata": {},
   "outputs": [
    {
     "data": {
      "text/plain": [
       "(378661, 15)"
      ]
     },
     "execution_count": 222,
     "metadata": {},
     "output_type": "execute_result"
    }
   ],
   "source": [
    "df2.shape"
   ]
  },
  {
   "cell_type": "code",
   "execution_count": 223,
   "metadata": {},
   "outputs": [],
   "source": [
    "df2.rename(columns={'ID':'id'}, inplace=True)"
   ]
  },
  {
   "cell_type": "code",
   "execution_count": 224,
   "metadata": {},
   "outputs": [
    {
     "data": {
      "text/html": [
       "<div>\n",
       "<style scoped>\n",
       "    .dataframe tbody tr th:only-of-type {\n",
       "        vertical-align: middle;\n",
       "    }\n",
       "\n",
       "    .dataframe tbody tr th {\n",
       "        vertical-align: top;\n",
       "    }\n",
       "\n",
       "    .dataframe thead th {\n",
       "        text-align: right;\n",
       "    }\n",
       "</style>\n",
       "<table border=\"1\" class=\"dataframe\">\n",
       "  <thead>\n",
       "    <tr style=\"text-align: right;\">\n",
       "      <th></th>\n",
       "      <th>id</th>\n",
       "      <th>name</th>\n",
       "      <th>category</th>\n",
       "      <th>main_category</th>\n",
       "      <th>currency</th>\n",
       "      <th>deadline</th>\n",
       "      <th>goal</th>\n",
       "      <th>launched</th>\n",
       "      <th>pledged</th>\n",
       "      <th>state</th>\n",
       "      <th>backers</th>\n",
       "      <th>country</th>\n",
       "      <th>usd pledged</th>\n",
       "      <th>usd_pledged_real</th>\n",
       "      <th>usd_goal_real</th>\n",
       "    </tr>\n",
       "  </thead>\n",
       "  <tbody>\n",
       "    <tr>\n",
       "      <th>0</th>\n",
       "      <td>1000002330</td>\n",
       "      <td>The Songs of Adelaide &amp; Abullah</td>\n",
       "      <td>Poetry</td>\n",
       "      <td>Publishing</td>\n",
       "      <td>GBP</td>\n",
       "      <td>2015-10-09</td>\n",
       "      <td>1000.0</td>\n",
       "      <td>2015-08-11 12:12:28</td>\n",
       "      <td>0.0</td>\n",
       "      <td>failed</td>\n",
       "      <td>0</td>\n",
       "      <td>GB</td>\n",
       "      <td>0.0</td>\n",
       "      <td>0.0</td>\n",
       "      <td>1533.95</td>\n",
       "    </tr>\n",
       "    <tr>\n",
       "      <th>1</th>\n",
       "      <td>1000003930</td>\n",
       "      <td>Greeting From Earth: ZGAC Arts Capsule For ET</td>\n",
       "      <td>Narrative Film</td>\n",
       "      <td>Film &amp; Video</td>\n",
       "      <td>USD</td>\n",
       "      <td>2017-11-01</td>\n",
       "      <td>30000.0</td>\n",
       "      <td>2017-09-02 04:43:57</td>\n",
       "      <td>2421.0</td>\n",
       "      <td>failed</td>\n",
       "      <td>15</td>\n",
       "      <td>US</td>\n",
       "      <td>100.0</td>\n",
       "      <td>2421.0</td>\n",
       "      <td>30000.00</td>\n",
       "    </tr>\n",
       "    <tr>\n",
       "      <th>2</th>\n",
       "      <td>1000004038</td>\n",
       "      <td>Where is Hank?</td>\n",
       "      <td>Narrative Film</td>\n",
       "      <td>Film &amp; Video</td>\n",
       "      <td>USD</td>\n",
       "      <td>2013-02-26</td>\n",
       "      <td>45000.0</td>\n",
       "      <td>2013-01-12 00:20:50</td>\n",
       "      <td>220.0</td>\n",
       "      <td>failed</td>\n",
       "      <td>3</td>\n",
       "      <td>US</td>\n",
       "      <td>220.0</td>\n",
       "      <td>220.0</td>\n",
       "      <td>45000.00</td>\n",
       "    </tr>\n",
       "    <tr>\n",
       "      <th>3</th>\n",
       "      <td>1000007540</td>\n",
       "      <td>ToshiCapital Rekordz Needs Help to Complete Album</td>\n",
       "      <td>Music</td>\n",
       "      <td>Music</td>\n",
       "      <td>USD</td>\n",
       "      <td>2012-04-16</td>\n",
       "      <td>5000.0</td>\n",
       "      <td>2012-03-17 03:24:11</td>\n",
       "      <td>1.0</td>\n",
       "      <td>failed</td>\n",
       "      <td>1</td>\n",
       "      <td>US</td>\n",
       "      <td>1.0</td>\n",
       "      <td>1.0</td>\n",
       "      <td>5000.00</td>\n",
       "    </tr>\n",
       "    <tr>\n",
       "      <th>4</th>\n",
       "      <td>1000011046</td>\n",
       "      <td>Community Film Project: The Art of Neighborhoo...</td>\n",
       "      <td>Film &amp; Video</td>\n",
       "      <td>Film &amp; Video</td>\n",
       "      <td>USD</td>\n",
       "      <td>2015-08-29</td>\n",
       "      <td>19500.0</td>\n",
       "      <td>2015-07-04 08:35:03</td>\n",
       "      <td>1283.0</td>\n",
       "      <td>canceled</td>\n",
       "      <td>14</td>\n",
       "      <td>US</td>\n",
       "      <td>1283.0</td>\n",
       "      <td>1283.0</td>\n",
       "      <td>19500.00</td>\n",
       "    </tr>\n",
       "  </tbody>\n",
       "</table>\n",
       "</div>"
      ],
      "text/plain": [
       "           id                                               name  \\\n",
       "0  1000002330                    The Songs of Adelaide & Abullah   \n",
       "1  1000003930      Greeting From Earth: ZGAC Arts Capsule For ET   \n",
       "2  1000004038                                     Where is Hank?   \n",
       "3  1000007540  ToshiCapital Rekordz Needs Help to Complete Album   \n",
       "4  1000011046  Community Film Project: The Art of Neighborhoo...   \n",
       "\n",
       "         category main_category currency    deadline     goal  \\\n",
       "0          Poetry    Publishing      GBP  2015-10-09   1000.0   \n",
       "1  Narrative Film  Film & Video      USD  2017-11-01  30000.0   \n",
       "2  Narrative Film  Film & Video      USD  2013-02-26  45000.0   \n",
       "3           Music         Music      USD  2012-04-16   5000.0   \n",
       "4    Film & Video  Film & Video      USD  2015-08-29  19500.0   \n",
       "\n",
       "              launched  pledged     state  backers country  usd pledged  \\\n",
       "0  2015-08-11 12:12:28      0.0    failed        0      GB          0.0   \n",
       "1  2017-09-02 04:43:57   2421.0    failed       15      US        100.0   \n",
       "2  2013-01-12 00:20:50    220.0    failed        3      US        220.0   \n",
       "3  2012-03-17 03:24:11      1.0    failed        1      US          1.0   \n",
       "4  2015-07-04 08:35:03   1283.0  canceled       14      US       1283.0   \n",
       "\n",
       "   usd_pledged_real  usd_goal_real  \n",
       "0               0.0        1533.95  \n",
       "1            2421.0       30000.00  \n",
       "2             220.0       45000.00  \n",
       "3               1.0        5000.00  \n",
       "4            1283.0       19500.00  "
      ]
     },
     "execution_count": 224,
     "metadata": {},
     "output_type": "execute_result"
    }
   ],
   "source": [
    "df2.head()"
   ]
  },
  {
   "cell_type": "markdown",
   "metadata": {},
   "source": [
    "## Merge Datasets\n",
    "This second dataset appears to have valuable features such as 'usd_pledged_real', 'usd_goal_real', and sub-categories.\n",
    "<br>\n",
    "Let's merge this in with the first dataset to see if the 'id' categories overlap, and we're able to augment the data dimensionality."
   ]
  },
  {
   "cell_type": "code",
   "execution_count": 367,
   "metadata": {},
   "outputs": [],
   "source": [
    "df_master = df2.merge(df_select, on='id', how='outer')"
   ]
  },
  {
   "cell_type": "code",
   "execution_count": 368,
   "metadata": {},
   "outputs": [
    {
     "data": {
      "text/plain": [
       "(378823, 25)"
      ]
     },
     "execution_count": 368,
     "metadata": {},
     "output_type": "execute_result"
    }
   ],
   "source": [
    "df_master.shape"
   ]
  },
  {
   "cell_type": "code",
   "execution_count": 369,
   "metadata": {},
   "outputs": [
    {
     "data": {
      "text/plain": [
       "(94460, 25)"
      ]
     },
     "execution_count": 369,
     "metadata": {},
     "output_type": "execute_result"
    }
   ],
   "source": [
    "df_master = df_master.dropna()\n",
    "df_master.shape"
   ]
  },
  {
   "cell_type": "code",
   "execution_count": 370,
   "metadata": {},
   "outputs": [
    {
     "data": {
      "text/html": [
       "<div>\n",
       "<style scoped>\n",
       "    .dataframe tbody tr th:only-of-type {\n",
       "        vertical-align: middle;\n",
       "    }\n",
       "\n",
       "    .dataframe tbody tr th {\n",
       "        vertical-align: top;\n",
       "    }\n",
       "\n",
       "    .dataframe thead th {\n",
       "        text-align: right;\n",
       "    }\n",
       "</style>\n",
       "<table border=\"1\" class=\"dataframe\">\n",
       "  <thead>\n",
       "    <tr style=\"text-align: right;\">\n",
       "      <th></th>\n",
       "      <th>id</th>\n",
       "      <th>name</th>\n",
       "      <th>category</th>\n",
       "      <th>main_category</th>\n",
       "      <th>currency</th>\n",
       "      <th>deadline</th>\n",
       "      <th>goal_x</th>\n",
       "      <th>launched</th>\n",
       "      <th>pledged</th>\n",
       "      <th>state</th>\n",
       "      <th>...</th>\n",
       "      <th>goal_y</th>\n",
       "      <th>status</th>\n",
       "      <th>Categories</th>\n",
       "      <th>City</th>\n",
       "      <th>State</th>\n",
       "      <th>launched_atYM</th>\n",
       "      <th>Length_of_kick</th>\n",
       "      <th>Days_spent_making_campign</th>\n",
       "      <th>City_Pop</th>\n",
       "      <th>staff_pick</th>\n",
       "    </tr>\n",
       "  </thead>\n",
       "  <tbody>\n",
       "    <tr>\n",
       "      <th>1</th>\n",
       "      <td>1000003930</td>\n",
       "      <td>Greeting From Earth: ZGAC Arts Capsule For ET</td>\n",
       "      <td>Narrative Film</td>\n",
       "      <td>Film &amp; Video</td>\n",
       "      <td>USD</td>\n",
       "      <td>2017-11-01</td>\n",
       "      <td>30000.0</td>\n",
       "      <td>2017-09-02 04:43:57</td>\n",
       "      <td>2421.0</td>\n",
       "      <td>failed</td>\n",
       "      <td>...</td>\n",
       "      <td>30000.0</td>\n",
       "      <td>live</td>\n",
       "      <td>film%20&amp;%20video</td>\n",
       "      <td>Los Angeles</td>\n",
       "      <td>california</td>\n",
       "      <td>17-09</td>\n",
       "      <td>60.0</td>\n",
       "      <td>21.0</td>\n",
       "      <td>3877129.0</td>\n",
       "      <td>False</td>\n",
       "    </tr>\n",
       "    <tr>\n",
       "      <th>2</th>\n",
       "      <td>1000004038</td>\n",
       "      <td>Where is Hank?</td>\n",
       "      <td>Narrative Film</td>\n",
       "      <td>Film &amp; Video</td>\n",
       "      <td>USD</td>\n",
       "      <td>2013-02-26</td>\n",
       "      <td>45000.0</td>\n",
       "      <td>2013-01-12 00:20:50</td>\n",
       "      <td>220.0</td>\n",
       "      <td>failed</td>\n",
       "      <td>...</td>\n",
       "      <td>45000.0</td>\n",
       "      <td>failed</td>\n",
       "      <td>film%20&amp;%20video</td>\n",
       "      <td>Tucson</td>\n",
       "      <td>arizona</td>\n",
       "      <td>13-01</td>\n",
       "      <td>45.0</td>\n",
       "      <td>4.0</td>\n",
       "      <td>518907.0</td>\n",
       "      <td>False</td>\n",
       "    </tr>\n",
       "    <tr>\n",
       "      <th>5</th>\n",
       "      <td>1000014025</td>\n",
       "      <td>Monarch Espresso Bar</td>\n",
       "      <td>Restaurants</td>\n",
       "      <td>Food</td>\n",
       "      <td>USD</td>\n",
       "      <td>2016-04-01</td>\n",
       "      <td>50000.0</td>\n",
       "      <td>2016-02-26 13:38:27</td>\n",
       "      <td>52375.0</td>\n",
       "      <td>successful</td>\n",
       "      <td>...</td>\n",
       "      <td>50000.0</td>\n",
       "      <td>successful</td>\n",
       "      <td>food</td>\n",
       "      <td>Tuscaloosa</td>\n",
       "      <td>alabama</td>\n",
       "      <td>16-02</td>\n",
       "      <td>35.0</td>\n",
       "      <td>39.0</td>\n",
       "      <td>79816.0</td>\n",
       "      <td>False</td>\n",
       "    </tr>\n",
       "    <tr>\n",
       "      <th>11</th>\n",
       "      <td>100005484</td>\n",
       "      <td>Lisa Lim New CD!</td>\n",
       "      <td>Indie Rock</td>\n",
       "      <td>Music</td>\n",
       "      <td>USD</td>\n",
       "      <td>2013-04-08</td>\n",
       "      <td>12500.0</td>\n",
       "      <td>2013-03-09 06:42:58</td>\n",
       "      <td>12700.0</td>\n",
       "      <td>successful</td>\n",
       "      <td>...</td>\n",
       "      <td>12500.0</td>\n",
       "      <td>successful</td>\n",
       "      <td>music</td>\n",
       "      <td>Washington</td>\n",
       "      <td>district of columbia</td>\n",
       "      <td>13-03</td>\n",
       "      <td>30.0</td>\n",
       "      <td>5.0</td>\n",
       "      <td>552433.0</td>\n",
       "      <td>False</td>\n",
       "    </tr>\n",
       "    <tr>\n",
       "      <th>17</th>\n",
       "      <td>1000068480</td>\n",
       "      <td>Notes From London: Above &amp; Below</td>\n",
       "      <td>Art Books</td>\n",
       "      <td>Publishing</td>\n",
       "      <td>USD</td>\n",
       "      <td>2015-05-10</td>\n",
       "      <td>3000.0</td>\n",
       "      <td>2015-04-10 21:20:54</td>\n",
       "      <td>789.0</td>\n",
       "      <td>failed</td>\n",
       "      <td>...</td>\n",
       "      <td>3000.0</td>\n",
       "      <td>failed</td>\n",
       "      <td>publishing</td>\n",
       "      <td>Pittsburgh</td>\n",
       "      <td>pennsylvania</td>\n",
       "      <td>15-04</td>\n",
       "      <td>30.0</td>\n",
       "      <td>2.0</td>\n",
       "      <td>319494.0</td>\n",
       "      <td>True</td>\n",
       "    </tr>\n",
       "  </tbody>\n",
       "</table>\n",
       "<p>5 rows × 25 columns</p>\n",
       "</div>"
      ],
      "text/plain": [
       "            id                                           name        category  \\\n",
       "1   1000003930  Greeting From Earth: ZGAC Arts Capsule For ET  Narrative Film   \n",
       "2   1000004038                                 Where is Hank?  Narrative Film   \n",
       "5   1000014025                           Monarch Espresso Bar     Restaurants   \n",
       "11   100005484                               Lisa Lim New CD!      Indie Rock   \n",
       "17  1000068480               Notes From London: Above & Below       Art Books   \n",
       "\n",
       "   main_category currency    deadline   goal_x             launched  pledged  \\\n",
       "1   Film & Video      USD  2017-11-01  30000.0  2017-09-02 04:43:57   2421.0   \n",
       "2   Film & Video      USD  2013-02-26  45000.0  2013-01-12 00:20:50    220.0   \n",
       "5           Food      USD  2016-04-01  50000.0  2016-02-26 13:38:27  52375.0   \n",
       "11         Music      USD  2013-04-08  12500.0  2013-03-09 06:42:58  12700.0   \n",
       "17    Publishing      USD  2015-05-10   3000.0  2015-04-10 21:20:54    789.0   \n",
       "\n",
       "         state    ...       goal_y      status        Categories         City  \\\n",
       "1       failed    ...      30000.0        live  film%20&%20video  Los Angeles   \n",
       "2       failed    ...      45000.0      failed  film%20&%20video       Tucson   \n",
       "5   successful    ...      50000.0  successful              food   Tuscaloosa   \n",
       "11  successful    ...      12500.0  successful             music   Washington   \n",
       "17      failed    ...       3000.0      failed        publishing   Pittsburgh   \n",
       "\n",
       "                   State  launched_atYM Length_of_kick  \\\n",
       "1             california          17-09           60.0   \n",
       "2                arizona          13-01           45.0   \n",
       "5                alabama          16-02           35.0   \n",
       "11  district of columbia          13-03           30.0   \n",
       "17          pennsylvania          15-04           30.0   \n",
       "\n",
       "   Days_spent_making_campign   City_Pop staff_pick  \n",
       "1                       21.0  3877129.0      False  \n",
       "2                        4.0   518907.0      False  \n",
       "5                       39.0    79816.0      False  \n",
       "11                       5.0   552433.0      False  \n",
       "17                       2.0   319494.0       True  \n",
       "\n",
       "[5 rows x 25 columns]"
      ]
     },
     "execution_count": 370,
     "metadata": {},
     "output_type": "execute_result"
    }
   ],
   "source": [
    "df_master.head()"
   ]
  },
  {
   "cell_type": "code",
   "execution_count": 371,
   "metadata": {},
   "outputs": [
    {
     "data": {
      "text/plain": [
       "Index(['id', 'name', 'category', 'main_category', 'currency', 'deadline',\n",
       "       'goal_x', 'launched', 'pledged', 'state', 'backers', 'country',\n",
       "       'usd pledged', 'usd_pledged_real', 'usd_goal_real', 'goal_y', 'status',\n",
       "       'Categories', 'City', 'State', 'launched_atYM', 'Length_of_kick',\n",
       "       'Days_spent_making_campign', 'City_Pop', 'staff_pick'],\n",
       "      dtype='object')"
      ]
     },
     "execution_count": 371,
     "metadata": {},
     "output_type": "execute_result"
    }
   ],
   "source": [
    "df_master.keys()"
   ]
  },
  {
   "cell_type": "code",
   "execution_count": 372,
   "metadata": {},
   "outputs": [],
   "source": [
    "merge_features = ['id', 'category', 'main_category',\n",
    "       'state', 'country', 'usd_goal_real',\n",
    "       'City', 'State', 'launched_atYM', 'Length_of_kick',\n",
    "       'Days_spent_making_campign', 'City_Pop', 'staff_pick']"
   ]
  },
  {
   "cell_type": "code",
   "execution_count": 385,
   "metadata": {},
   "outputs": [],
   "source": [
    "df_master_select = df_master.copy()\n",
    "df_master_select = df_master_select[merge_features]"
   ]
  },
  {
   "cell_type": "code",
   "execution_count": 386,
   "metadata": {},
   "outputs": [
    {
     "data": {
      "text/plain": [
       "(94460, 13)"
      ]
     },
     "execution_count": 386,
     "metadata": {},
     "output_type": "execute_result"
    }
   ],
   "source": [
    "df_master_select.shape"
   ]
  },
  {
   "cell_type": "code",
   "execution_count": 387,
   "metadata": {},
   "outputs": [
    {
     "data": {
      "text/html": [
       "<div>\n",
       "<style scoped>\n",
       "    .dataframe tbody tr th:only-of-type {\n",
       "        vertical-align: middle;\n",
       "    }\n",
       "\n",
       "    .dataframe tbody tr th {\n",
       "        vertical-align: top;\n",
       "    }\n",
       "\n",
       "    .dataframe thead th {\n",
       "        text-align: right;\n",
       "    }\n",
       "</style>\n",
       "<table border=\"1\" class=\"dataframe\">\n",
       "  <thead>\n",
       "    <tr style=\"text-align: right;\">\n",
       "      <th></th>\n",
       "      <th>id</th>\n",
       "      <th>sub_category</th>\n",
       "      <th>main_category</th>\n",
       "      <th>Status</th>\n",
       "      <th>country</th>\n",
       "      <th>usd_goal_real</th>\n",
       "      <th>City</th>\n",
       "      <th>State</th>\n",
       "      <th>month_launched</th>\n",
       "      <th>Length_of_kick</th>\n",
       "      <th>Days_spent_making_campign</th>\n",
       "      <th>City_Pop</th>\n",
       "      <th>staff_pick</th>\n",
       "    </tr>\n",
       "  </thead>\n",
       "  <tbody>\n",
       "    <tr>\n",
       "      <th>1</th>\n",
       "      <td>1000003930</td>\n",
       "      <td>Narrative Film</td>\n",
       "      <td>Film &amp; Video</td>\n",
       "      <td>failed</td>\n",
       "      <td>US</td>\n",
       "      <td>30000.0</td>\n",
       "      <td>Los Angeles</td>\n",
       "      <td>california</td>\n",
       "      <td>17-09</td>\n",
       "      <td>60.0</td>\n",
       "      <td>21.0</td>\n",
       "      <td>3877129.0</td>\n",
       "      <td>False</td>\n",
       "    </tr>\n",
       "    <tr>\n",
       "      <th>2</th>\n",
       "      <td>1000004038</td>\n",
       "      <td>Narrative Film</td>\n",
       "      <td>Film &amp; Video</td>\n",
       "      <td>failed</td>\n",
       "      <td>US</td>\n",
       "      <td>45000.0</td>\n",
       "      <td>Tucson</td>\n",
       "      <td>arizona</td>\n",
       "      <td>13-01</td>\n",
       "      <td>45.0</td>\n",
       "      <td>4.0</td>\n",
       "      <td>518907.0</td>\n",
       "      <td>False</td>\n",
       "    </tr>\n",
       "    <tr>\n",
       "      <th>5</th>\n",
       "      <td>1000014025</td>\n",
       "      <td>Restaurants</td>\n",
       "      <td>Food</td>\n",
       "      <td>successful</td>\n",
       "      <td>US</td>\n",
       "      <td>50000.0</td>\n",
       "      <td>Tuscaloosa</td>\n",
       "      <td>alabama</td>\n",
       "      <td>16-02</td>\n",
       "      <td>35.0</td>\n",
       "      <td>39.0</td>\n",
       "      <td>79816.0</td>\n",
       "      <td>False</td>\n",
       "    </tr>\n",
       "    <tr>\n",
       "      <th>11</th>\n",
       "      <td>100005484</td>\n",
       "      <td>Indie Rock</td>\n",
       "      <td>Music</td>\n",
       "      <td>successful</td>\n",
       "      <td>US</td>\n",
       "      <td>12500.0</td>\n",
       "      <td>Washington</td>\n",
       "      <td>district of columbia</td>\n",
       "      <td>13-03</td>\n",
       "      <td>30.0</td>\n",
       "      <td>5.0</td>\n",
       "      <td>552433.0</td>\n",
       "      <td>False</td>\n",
       "    </tr>\n",
       "    <tr>\n",
       "      <th>17</th>\n",
       "      <td>1000068480</td>\n",
       "      <td>Art Books</td>\n",
       "      <td>Publishing</td>\n",
       "      <td>failed</td>\n",
       "      <td>US</td>\n",
       "      <td>3000.0</td>\n",
       "      <td>Pittsburgh</td>\n",
       "      <td>pennsylvania</td>\n",
       "      <td>15-04</td>\n",
       "      <td>30.0</td>\n",
       "      <td>2.0</td>\n",
       "      <td>319494.0</td>\n",
       "      <td>True</td>\n",
       "    </tr>\n",
       "  </tbody>\n",
       "</table>\n",
       "</div>"
      ],
      "text/plain": [
       "            id    sub_category main_category      Status country  \\\n",
       "1   1000003930  Narrative Film  Film & Video      failed      US   \n",
       "2   1000004038  Narrative Film  Film & Video      failed      US   \n",
       "5   1000014025     Restaurants          Food  successful      US   \n",
       "11   100005484      Indie Rock         Music  successful      US   \n",
       "17  1000068480       Art Books    Publishing      failed      US   \n",
       "\n",
       "    usd_goal_real         City                 State month_launched  \\\n",
       "1         30000.0  Los Angeles            california          17-09   \n",
       "2         45000.0       Tucson               arizona          13-01   \n",
       "5         50000.0   Tuscaloosa               alabama          16-02   \n",
       "11        12500.0   Washington  district of columbia          13-03   \n",
       "17         3000.0   Pittsburgh          pennsylvania          15-04   \n",
       "\n",
       "    Length_of_kick  Days_spent_making_campign   City_Pop staff_pick  \n",
       "1             60.0                       21.0  3877129.0      False  \n",
       "2             45.0                        4.0   518907.0      False  \n",
       "5             35.0                       39.0    79816.0      False  \n",
       "11            30.0                        5.0   552433.0      False  \n",
       "17            30.0                        2.0   319494.0       True  "
      ]
     },
     "execution_count": 387,
     "metadata": {},
     "output_type": "execute_result"
    }
   ],
   "source": [
    "df_master_select.rename(columns={'state': 'Status', 'category': 'sub_category', 'launched_atYM': 'month_launched'}, inplace=True)\n",
    "df_master_select.head()"
   ]
  },
  {
   "cell_type": "code",
   "execution_count": 388,
   "metadata": {},
   "outputs": [],
   "source": [
    "# Clean up values for later calculations\n",
    "\n",
    "# Change Statuses to binary 1/0 for Success/Fail; remove all other entries\n",
    "df_master_select['Status'] = df_master_select['Status'].replace('successful', 1)\n",
    "df_master_select['Status'] = df_master_select['Status'].replace('failed', 0)\n",
    "df_master_select['Status'] = df_master_select['Status'].replace('canceled', 0)\n",
    "df_master_select = df_master_select[(df_master_select['Status'] == 1) | (df_master_select['Status'] == 0)]\n",
    "df_master_select['Status'] = df_master_select['Status'].astype(str).astype(int)\n",
    "\n",
    "# Convert Staff pick to numerical binary\n",
    "df_master_select['staff_pick'] = df_master_select['staff_pick']*1\n",
    "df_master_select['staff_pick'] = df_master_select['staff_pick'].astype(str).astype(int)\n",
    "\n",
    "df_master_select['month_launched'] = df_master_select['month_launched'].str.extract('.*-(.*)').astype(int)\n",
    "\n",
    "# Create parallel categories for City, State, Country, Main_Category, and Sub_Category with numbers only\n",
    "cities = list(set(df_master_select['City']))\n",
    "states = list(set(df_master_select['State']))\n",
    "countries = list(set(df_master_select['country']))\n",
    "main_categories = list(set(df_master_select['main_category']))\n",
    "sub_categories = list(set(df_master_select['sub_category']))\n",
    "\n",
    "df_master_select['Main_Cat_Nums'] = df_master_select['main_category'].replace(main_categories, list(range(len(main_categories))))\n",
    "df_master_select['Sub_Cat_Nums'] = df_master_select['sub_category'].replace(sub_categories, list(range(len(sub_categories))))\n",
    "df_master_select['City-Nums'] = df_master_select['City'].replace(cities, list(range(len(cities))))\n",
    "df_master_select['State-Nums'] = df_master_select['State'].replace(states, list(range(len(states))))\n",
    "df_master_select['Country-Nums'] = df_master_select['country'].replace(countries, list(range(len(countries))))"
   ]
  },
  {
   "cell_type": "code",
   "execution_count": 389,
   "metadata": {},
   "outputs": [
    {
     "data": {
      "text/html": [
       "<div>\n",
       "<style scoped>\n",
       "    .dataframe tbody tr th:only-of-type {\n",
       "        vertical-align: middle;\n",
       "    }\n",
       "\n",
       "    .dataframe tbody tr th {\n",
       "        vertical-align: top;\n",
       "    }\n",
       "\n",
       "    .dataframe thead th {\n",
       "        text-align: right;\n",
       "    }\n",
       "</style>\n",
       "<table border=\"1\" class=\"dataframe\">\n",
       "  <thead>\n",
       "    <tr style=\"text-align: right;\">\n",
       "      <th></th>\n",
       "      <th>id</th>\n",
       "      <th>sub_category</th>\n",
       "      <th>main_category</th>\n",
       "      <th>Status</th>\n",
       "      <th>country</th>\n",
       "      <th>usd_goal_real</th>\n",
       "      <th>City</th>\n",
       "      <th>State</th>\n",
       "      <th>month_launched</th>\n",
       "      <th>Length_of_kick</th>\n",
       "      <th>Days_spent_making_campign</th>\n",
       "      <th>City_Pop</th>\n",
       "      <th>staff_pick</th>\n",
       "      <th>Main_Cat_Nums</th>\n",
       "      <th>Sub_Cat_Nums</th>\n",
       "      <th>City-Nums</th>\n",
       "      <th>State-Nums</th>\n",
       "      <th>Country-Nums</th>\n",
       "    </tr>\n",
       "  </thead>\n",
       "  <tbody>\n",
       "    <tr>\n",
       "      <th>1</th>\n",
       "      <td>1000003930</td>\n",
       "      <td>Narrative Film</td>\n",
       "      <td>Film &amp; Video</td>\n",
       "      <td>0</td>\n",
       "      <td>US</td>\n",
       "      <td>30000.0</td>\n",
       "      <td>Los Angeles</td>\n",
       "      <td>california</td>\n",
       "      <td>9</td>\n",
       "      <td>60.0</td>\n",
       "      <td>21.0</td>\n",
       "      <td>3877129.0</td>\n",
       "      <td>0</td>\n",
       "      <td>5</td>\n",
       "      <td>111</td>\n",
       "      <td>2136</td>\n",
       "      <td>35</td>\n",
       "      <td>0</td>\n",
       "    </tr>\n",
       "    <tr>\n",
       "      <th>2</th>\n",
       "      <td>1000004038</td>\n",
       "      <td>Narrative Film</td>\n",
       "      <td>Film &amp; Video</td>\n",
       "      <td>0</td>\n",
       "      <td>US</td>\n",
       "      <td>45000.0</td>\n",
       "      <td>Tucson</td>\n",
       "      <td>arizona</td>\n",
       "      <td>1</td>\n",
       "      <td>45.0</td>\n",
       "      <td>4.0</td>\n",
       "      <td>518907.0</td>\n",
       "      <td>0</td>\n",
       "      <td>5</td>\n",
       "      <td>111</td>\n",
       "      <td>2196</td>\n",
       "      <td>48</td>\n",
       "      <td>0</td>\n",
       "    </tr>\n",
       "    <tr>\n",
       "      <th>5</th>\n",
       "      <td>1000014025</td>\n",
       "      <td>Restaurants</td>\n",
       "      <td>Food</td>\n",
       "      <td>1</td>\n",
       "      <td>US</td>\n",
       "      <td>50000.0</td>\n",
       "      <td>Tuscaloosa</td>\n",
       "      <td>alabama</td>\n",
       "      <td>2</td>\n",
       "      <td>35.0</td>\n",
       "      <td>39.0</td>\n",
       "      <td>79816.0</td>\n",
       "      <td>0</td>\n",
       "      <td>7</td>\n",
       "      <td>130</td>\n",
       "      <td>1372</td>\n",
       "      <td>46</td>\n",
       "      <td>0</td>\n",
       "    </tr>\n",
       "    <tr>\n",
       "      <th>11</th>\n",
       "      <td>100005484</td>\n",
       "      <td>Indie Rock</td>\n",
       "      <td>Music</td>\n",
       "      <td>1</td>\n",
       "      <td>US</td>\n",
       "      <td>12500.0</td>\n",
       "      <td>Washington</td>\n",
       "      <td>district of columbia</td>\n",
       "      <td>3</td>\n",
       "      <td>30.0</td>\n",
       "      <td>5.0</td>\n",
       "      <td>552433.0</td>\n",
       "      <td>0</td>\n",
       "      <td>14</td>\n",
       "      <td>55</td>\n",
       "      <td>1081</td>\n",
       "      <td>21</td>\n",
       "      <td>0</td>\n",
       "    </tr>\n",
       "    <tr>\n",
       "      <th>17</th>\n",
       "      <td>1000068480</td>\n",
       "      <td>Art Books</td>\n",
       "      <td>Publishing</td>\n",
       "      <td>0</td>\n",
       "      <td>US</td>\n",
       "      <td>3000.0</td>\n",
       "      <td>Pittsburgh</td>\n",
       "      <td>pennsylvania</td>\n",
       "      <td>4</td>\n",
       "      <td>30.0</td>\n",
       "      <td>2.0</td>\n",
       "      <td>319494.0</td>\n",
       "      <td>1</td>\n",
       "      <td>10</td>\n",
       "      <td>88</td>\n",
       "      <td>2017</td>\n",
       "      <td>18</td>\n",
       "      <td>0</td>\n",
       "    </tr>\n",
       "  </tbody>\n",
       "</table>\n",
       "</div>"
      ],
      "text/plain": [
       "            id    sub_category main_category  Status country  usd_goal_real  \\\n",
       "1   1000003930  Narrative Film  Film & Video       0      US        30000.0   \n",
       "2   1000004038  Narrative Film  Film & Video       0      US        45000.0   \n",
       "5   1000014025     Restaurants          Food       1      US        50000.0   \n",
       "11   100005484      Indie Rock         Music       1      US        12500.0   \n",
       "17  1000068480       Art Books    Publishing       0      US         3000.0   \n",
       "\n",
       "           City                 State  month_launched  Length_of_kick  \\\n",
       "1   Los Angeles            california               9            60.0   \n",
       "2        Tucson               arizona               1            45.0   \n",
       "5    Tuscaloosa               alabama               2            35.0   \n",
       "11   Washington  district of columbia               3            30.0   \n",
       "17   Pittsburgh          pennsylvania               4            30.0   \n",
       "\n",
       "    Days_spent_making_campign   City_Pop  staff_pick  Main_Cat_Nums  \\\n",
       "1                        21.0  3877129.0           0              5   \n",
       "2                         4.0   518907.0           0              5   \n",
       "5                        39.0    79816.0           0              7   \n",
       "11                        5.0   552433.0           0             14   \n",
       "17                        2.0   319494.0           1             10   \n",
       "\n",
       "    Sub_Cat_Nums  City-Nums  State-Nums  Country-Nums  \n",
       "1            111       2136          35             0  \n",
       "2            111       2196          48             0  \n",
       "5            130       1372          46             0  \n",
       "11            55       1081          21             0  \n",
       "17            88       2017          18             0  "
      ]
     },
     "execution_count": 389,
     "metadata": {},
     "output_type": "execute_result"
    }
   ],
   "source": [
    "# Remove rows with lingering null values\n",
    "df_master_select = df_master_select.dropna()\n",
    "\n",
    "df_master_select.head()"
   ]
  },
  {
   "cell_type": "markdown",
   "metadata": {},
   "source": [
    "## Calculating Prediction Accuracy\n",
    "Now that the data is structured to our liking, we will test a couple classification models from the Scikit-Learn library to see how high we can push our accuracy for predicting the success of a Kickstarter campaign.\n",
    "<br><br>\n",
    "First, we will establish variables for our test features, and split into our X and Y groups for training and testing."
   ]
  },
  {
   "cell_type": "code",
   "execution_count": 613,
   "metadata": {},
   "outputs": [],
   "source": [
    "# Set up X and y variables for test/train/split Decision Tree Classifier model\n",
    "\n",
    "test_features = ['usd_goal_real', 'Main_Cat_Nums', 'Sub_Cat_Nums', 'City-Nums', 'State-Nums', 'month_launched', 'Length_of_kick', 'Days_spent_making_campign', 'City_Pop','staff_pick']\n",
    "X = df_master_select[test_features].copy()\n",
    "y = df_master_select[['Status']].copy()\n",
    "\n",
    "X_train, X_test, y_train, y_test = train_test_split(X, y, test_size=0.33, random_state=324)"
   ]
  },
  {
   "cell_type": "markdown",
   "metadata": {},
   "source": [
    "### Decision Tree Classifier\n",
    "\n",
    "Begin with a simple Decision Tree Classifier with default, out-of-the-box settings."
   ]
  },
  {
   "cell_type": "code",
   "execution_count": 614,
   "metadata": {},
   "outputs": [
    {
     "data": {
      "text/plain": [
       "0.6563445567501448"
      ]
     },
     "execution_count": 614,
     "metadata": {},
     "output_type": "execute_result"
    }
   ],
   "source": [
    "dtc = DecisionTreeClassifier()\n",
    "dtc.fit(X_train, y_train)\n",
    "predictions = dtc.predict(X_test)\n",
    "accuracy_score(y_true = y_test, y_pred = predictions)"
   ]
  },
  {
   "cell_type": "markdown",
   "metadata": {},
   "source": [
    "An initial, out-of-the-box classifier test yielded a **65%** prediction accuracy. Remember that our previous accuracy score was **64%** before merging in the second dataset. This is not a huge improvement over the original dataset that didn't have subcategories, and so it seems like the additional categorical granularity is not a major factor.\n",
    "<br><br>\n",
    "However, while playing around with some of the DecisionTreeClassifier parameters (specifically, \"max_leaf_nodes\"), I noticed that the accuracy score varied from about **0.65** to **0.72**. In order to find the \"best\" paramater value to use, I used the GridSearchCV to test a wide range of max_leaf_node values."
   ]
  },
  {
   "cell_type": "code",
   "execution_count": 615,
   "metadata": {},
   "outputs": [
    {
     "data": {
      "text/plain": [
       "{'max_leaf_nodes': 1002}"
      ]
     },
     "execution_count": 615,
     "metadata": {},
     "output_type": "execute_result"
    }
   ],
   "source": [
    "dtc = DecisionTreeClassifier()\n",
    "param_grid = {'max_leaf_nodes': np.arange(2,50000, 1000)}\n",
    "CV_dtc = GridSearchCV(dtc, param_grid)\n",
    "CV_dtc.fit(X_train, y_train)\n",
    "CV_dtc.best_params_"
   ]
  },
  {
   "cell_type": "markdown",
   "metadata": {},
   "source": [
    "The 'max_leaf_nodes' parameter yields optimal accuracy at a value of **1002**.\n",
    "<br>\n",
    "With that value, let's re-build the model, re-calculate prediction accuracy, and find out which features play the biggest role."
   ]
  },
  {
   "cell_type": "code",
   "execution_count": 627,
   "metadata": {},
   "outputs": [
    {
     "data": {
      "text/plain": [
       "0.7184059743771326"
      ]
     },
     "execution_count": 627,
     "metadata": {},
     "output_type": "execute_result"
    }
   ],
   "source": [
    "dtc = DecisionTreeClassifier(max_leaf_nodes=1002)\n",
    "dtc.fit(X_train, y_train)\n",
    "predictions = dtc.predict(X_test)\n",
    "accuracy_score(y_true = y_test, y_pred = predictions)"
   ]
  },
  {
   "cell_type": "code",
   "execution_count": 628,
   "metadata": {},
   "outputs": [
    {
     "data": {
      "text/plain": [
       "[('staff_pick', 0.21400074480567696),\n",
       " ('usd_goal_real', 0.213321908442561),\n",
       " ('Sub_Cat_Nums', 0.1422118134367124),\n",
       " ('Main_Cat_Nums', 0.12482740089358024),\n",
       " ('Days_spent_making_campign', 0.11063687630724438),\n",
       " ('Length_of_kick', 0.06092865651283583),\n",
       " ('City_Pop', 0.05280036627303274),\n",
       " ('City-Nums', 0.03771322685397257),\n",
       " ('State-Nums', 0.024073984843382114),\n",
       " ('month_launched', 0.019485021631001853)]"
      ]
     },
     "execution_count": 628,
     "metadata": {},
     "output_type": "execute_result"
    }
   ],
   "source": [
    "# Which features play the biggest role in predicting campaign success:\n",
    "\n",
    "dtc_features = sorted(list(zip(test_features, dtc.feature_importances_)), key=lambda x: x[1], reverse=True)\n",
    "dtc_features"
   ]
  },
  {
   "cell_type": "code",
   "execution_count": 618,
   "metadata": {},
   "outputs": [
    {
     "name": "stdout",
     "output_type": "stream",
     "text": [
      "Accuracy: 0.72 (+/- 0.01)\n"
     ]
    }
   ],
   "source": [
    "# Further increase confidence of accuracy score through cross-validation of X and y data\n",
    "\n",
    "dtc = DecisionTreeClassifier(max_leaf_nodes=1002)\n",
    "scores = cross_val_score(dtc, X, np.ravel(y,order='C'), cv=10)\n",
    "print(\"Accuracy: %0.2f (+/- %0.2f)\" % (scores.mean(), scores.std() * 2))"
   ]
  },
  {
   "cell_type": "markdown",
   "metadata": {},
   "source": [
    "So a simple Decision Tree classifier is able to predict a campaign's success about **72%** of the time.\n",
    "<br>\n",
    "Let's see if a **Random Forest** model can do any better."
   ]
  },
  {
   "cell_type": "markdown",
   "metadata": {},
   "source": [
    "### Random Forest Classifier\n",
    "Begin with a simple Random Forest Classifier with default, out-of-the-box settings."
   ]
  },
  {
   "cell_type": "code",
   "execution_count": 619,
   "metadata": {},
   "outputs": [
    {
     "data": {
      "text/plain": [
       "0.7132234597308955"
      ]
     },
     "execution_count": 619,
     "metadata": {},
     "output_type": "execute_result"
    }
   ],
   "source": [
    "rfc = RandomForestClassifier()\n",
    "rfc.fit(X_train, np.ravel(y_train,order='C'))\n",
    "predictions = rfc.predict(X_test)\n",
    "accuracy_score(y_true = y_test, y_pred = predictions)"
   ]
  },
  {
   "cell_type": "markdown",
   "metadata": {},
   "source": [
    "The default RandomForestClassifier yields a **71%** prediction accuracy. This is definitely higher than the Decision Tree with default settings, but lower than the tuned Decision Tree model.\n",
    "<br><br>\n",
    "As with the Decision Tree, let's try to find some optimal settings. Here, I don't have the expertise yet to know which parameters to focus on tuning, so I relied on Google and StackOverflow, where I found a number of suggestions that the following features are important tune:\n",
    "* n_estimators\n",
    "* max_features\n",
    "* max_depth"
   ]
  },
  {
   "cell_type": "code",
   "execution_count": 620,
   "metadata": {},
   "outputs": [],
   "source": [
    "# WARNING: THIS CELL TAKES A LONG TIME TO CALCULATE! DO NOT RUN UNLESS NECESSARY!\n",
    "\n",
    "# rfc = RandomForestClassifier(n_jobs=-1)\n",
    "# param_grid = {'n_estimators': [10,100,1000], 'max_features': list(range(2,len(test_features)+1,2)), 'max_depth': [10,100,1000]}\n",
    "# CV_rfc = GridSearchCV(rfc, param_grid)\n",
    "# CV_rfc.fit(X_train, np.ravel(y_train,order='C'))\n",
    "# CV_rfc.best_params_"
   ]
  },
  {
   "cell_type": "markdown",
   "metadata": {},
   "source": [
    "From code cell output above:<br>\n",
    "**{'max_depth': 100, 'max_features': 2, 'n_estimators': 1000}**\n",
    "<br><br>\n",
    "With that optimized combination of parameters, let's re-build the model:"
   ]
  },
  {
   "cell_type": "code",
   "execution_count": 625,
   "metadata": {},
   "outputs": [
    {
     "data": {
      "text/plain": [
       "0.7411961630077899"
      ]
     },
     "execution_count": 625,
     "metadata": {},
     "output_type": "execute_result"
    }
   ],
   "source": [
    "rfc = RandomForestClassifier(n_estimators=1000, max_depth=100, max_features=2, n_jobs=-1)\n",
    "rfc.fit(X_train, np.ravel(y_train,order='C'))\n",
    "predictions = rfc.predict(X_test)\n",
    "accuracy_score(y_true = y_test, y_pred = predictions)"
   ]
  },
  {
   "cell_type": "code",
   "execution_count": 626,
   "metadata": {},
   "outputs": [
    {
     "data": {
      "text/plain": [
       "[('usd_goal_real', 0.1632654172975585),\n",
       " ('Days_spent_making_campign', 0.13074576873369936),\n",
       " ('Sub_Cat_Nums', 0.12433641358038665),\n",
       " ('City_Pop', 0.09422942016052813),\n",
       " ('Length_of_kick', 0.08990126082289077),\n",
       " ('City-Nums', 0.0883109927562802),\n",
       " ('month_launched', 0.08722720899469728),\n",
       " ('Main_Cat_Nums', 0.07667362892926581),\n",
       " ('staff_pick', 0.07654743030687486),\n",
       " ('State-Nums', 0.06876245841781886)]"
      ]
     },
     "execution_count": 626,
     "metadata": {},
     "output_type": "execute_result"
    }
   ],
   "source": [
    "# Which features play the biggest role in predicting campaign success:\n",
    "\n",
    "rfc_features = sorted(list(zip(test_features, rfc.feature_importances_)), key=lambda x: x[1], reverse=True)\n",
    "rfc_features"
   ]
  },
  {
   "cell_type": "code",
   "execution_count": 623,
   "metadata": {},
   "outputs": [
    {
     "name": "stdout",
     "output_type": "stream",
     "text": [
      "Accuracy: 0.74 (+/- 0.01)\n"
     ]
    }
   ],
   "source": [
    "# Verify accuracy score through cross-validation of X and y data\n",
    "\n",
    "rfc = RandomForestClassifier(n_estimators=1000, max_depth=100, max_features=2, n_jobs=-1)\n",
    "scores = cross_val_score(rfc, X, np.ravel(y,order='C'), cv=5)\n",
    "print(\"Accuracy: %0.2f (+/- %0.2f)\" % (scores.mean(), scores.std() * 2))"
   ]
  },
  {
   "cell_type": "markdown",
   "metadata": {},
   "source": [
    "The Random Forest approach brings our prediction accuracy up 2%, to **74%**.\n",
    "<br>\n",
    "Interestingly, notice that the feature importances differs between the DTC and RFC. Let's take a look in a graph:"
   ]
  },
  {
   "cell_type": "code",
   "execution_count": 635,
   "metadata": {},
   "outputs": [
    {
     "data": {
      "application/vnd.plotly.v1+json": {
       "data": [
        {
         "name": "Decision Tree Classifier",
         "type": "bar",
         "x": [
          "staff_pick",
          "usd_goal_real",
          "Sub_Cat_Nums",
          "Main_Cat_Nums",
          "Days_spent_making_campign",
          "Length_of_kick",
          "City_Pop",
          "City-Nums",
          "State-Nums",
          "month_launched"
         ],
         "y": [
          0.21400074480567696,
          0.213321908442561,
          0.1422118134367124,
          0.12482740089358024,
          0.11063687630724438,
          0.06092865651283583,
          0.05280036627303274,
          0.03771322685397257,
          0.024073984843382114,
          0.019485021631001853
         ]
        },
        {
         "name": "Random Forest Classifier",
         "type": "bar",
         "x": [
          "usd_goal_real",
          "Days_spent_making_campign",
          "Sub_Cat_Nums",
          "City_Pop",
          "Length_of_kick",
          "City-Nums",
          "month_launched",
          "Main_Cat_Nums",
          "staff_pick",
          "State-Nums"
         ],
         "y": [
          0.1632654172975585,
          0.13074576873369936,
          0.12433641358038665,
          0.09422942016052813,
          0.08990126082289077,
          0.0883109927562802,
          0.08722720899469728,
          0.07667362892926581,
          0.07654743030687486,
          0.06876245841781886
         ]
        }
       ],
       "layout": {
        "autosize": false,
        "height": 600,
        "hovermode": "closest",
        "title": "Feature Importances in Predicting Kickstarter Success",
        "width": 960,
        "xaxis": {
         "tickangle": 20,
         "title": "Features"
        },
        "yaxis": {
         "range": [
          0,
          0.3
         ],
         "title": "Feature Importance"
        }
       }
      },
      "text/html": [
       "<div id=\"ce2cbf40-af5b-41cb-b638-621fb4c53c19\" style=\"height: 600px; width: 960px;\" class=\"plotly-graph-div\"></div><script type=\"text/javascript\">require([\"plotly\"], function(Plotly) { window.PLOTLYENV=window.PLOTLYENV || {};window.PLOTLYENV.BASE_URL=\"https://plot.ly\";Plotly.newPlot(\"ce2cbf40-af5b-41cb-b638-621fb4c53c19\", [{\"type\": \"bar\", \"x\": [\"staff_pick\", \"usd_goal_real\", \"Sub_Cat_Nums\", \"Main_Cat_Nums\", \"Days_spent_making_campign\", \"Length_of_kick\", \"City_Pop\", \"City-Nums\", \"State-Nums\", \"month_launched\"], \"y\": [0.21400074480567696, 0.213321908442561, 0.1422118134367124, 0.12482740089358024, 0.11063687630724438, 0.06092865651283583, 0.05280036627303274, 0.03771322685397257, 0.024073984843382114, 0.019485021631001853], \"name\": \"Decision Tree Classifier\"}, {\"type\": \"bar\", \"x\": [\"usd_goal_real\", \"Days_spent_making_campign\", \"Sub_Cat_Nums\", \"City_Pop\", \"Length_of_kick\", \"City-Nums\", \"month_launched\", \"Main_Cat_Nums\", \"staff_pick\", \"State-Nums\"], \"y\": [0.1632654172975585, 0.13074576873369936, 0.12433641358038665, 0.09422942016052813, 0.08990126082289077, 0.0883109927562802, 0.08722720899469728, 0.07667362892926581, 0.07654743030687486, 0.06876245841781886], \"name\": \"Random Forest Classifier\"}], {\"title\": \"Feature Importances in Predicting Kickstarter Success\", \"yaxis\": {\"title\": \"Feature Importance\", \"range\": [0, 0.3]}, \"xaxis\": {\"title\": \"Features\", \"tickangle\": 20}, \"autosize\": false, \"width\": 960, \"height\": 600, \"hovermode\": \"closest\"}, {\"showLink\": true, \"linkText\": \"Export to plot.ly\"})});</script>"
      ],
      "text/vnd.plotly.v1+html": [
       "<div id=\"ce2cbf40-af5b-41cb-b638-621fb4c53c19\" style=\"height: 600px; width: 960px;\" class=\"plotly-graph-div\"></div><script type=\"text/javascript\">require([\"plotly\"], function(Plotly) { window.PLOTLYENV=window.PLOTLYENV || {};window.PLOTLYENV.BASE_URL=\"https://plot.ly\";Plotly.newPlot(\"ce2cbf40-af5b-41cb-b638-621fb4c53c19\", [{\"type\": \"bar\", \"x\": [\"staff_pick\", \"usd_goal_real\", \"Sub_Cat_Nums\", \"Main_Cat_Nums\", \"Days_spent_making_campign\", \"Length_of_kick\", \"City_Pop\", \"City-Nums\", \"State-Nums\", \"month_launched\"], \"y\": [0.21400074480567696, 0.213321908442561, 0.1422118134367124, 0.12482740089358024, 0.11063687630724438, 0.06092865651283583, 0.05280036627303274, 0.03771322685397257, 0.024073984843382114, 0.019485021631001853], \"name\": \"Decision Tree Classifier\"}, {\"type\": \"bar\", \"x\": [\"usd_goal_real\", \"Days_spent_making_campign\", \"Sub_Cat_Nums\", \"City_Pop\", \"Length_of_kick\", \"City-Nums\", \"month_launched\", \"Main_Cat_Nums\", \"staff_pick\", \"State-Nums\"], \"y\": [0.1632654172975585, 0.13074576873369936, 0.12433641358038665, 0.09422942016052813, 0.08990126082289077, 0.0883109927562802, 0.08722720899469728, 0.07667362892926581, 0.07654743030687486, 0.06876245841781886], \"name\": \"Random Forest Classifier\"}], {\"title\": \"Feature Importances in Predicting Kickstarter Success\", \"yaxis\": {\"title\": \"Feature Importance\", \"range\": [0, 0.3]}, \"xaxis\": {\"title\": \"Features\", \"tickangle\": 20}, \"autosize\": false, \"width\": 960, \"height\": 600, \"hovermode\": \"closest\"}, {\"showLink\": true, \"linkText\": \"Export to plot.ly\"})});</script>"
      ]
     },
     "metadata": {},
     "output_type": "display_data"
    }
   ],
   "source": [
    "data = [\n",
    "    go.Bar(\n",
    "        x=[x[0] for x in dtc_features],\n",
    "        y=[x[1] for x in dtc_features],\n",
    "        name='Decision Tree Classifier'\n",
    "    ),\n",
    "    go.Bar(\n",
    "        x=[x[0] for x in rfc_features],\n",
    "        y=[x[1] for x in rfc_features],\n",
    "        name='Random Forest Classifier'\n",
    "    )\n",
    "]\n",
    "\n",
    "layout = go.Layout(\n",
    "    title='Feature Importances in Predicting Kickstarter Success',\n",
    "    yaxis={'title': 'Feature Importance', 'range': [0,.3]},\n",
    "    xaxis={'title': 'Features', 'tickangle': 20},\n",
    "    autosize=False,\n",
    "    width=960,\n",
    "    height=600,\n",
    "    hovermode='closest'\n",
    ")\n",
    "\n",
    "fig = go.Figure(data=data, layout=layout)\n",
    "plot(fig, filename='feat-importances')"
   ]
  },
  {
   "cell_type": "markdown",
   "metadata": {},
   "source": [
    "I am not going to include, in this report, a study into why the feature importances vary between the two classifiers, but needless to say it is something to examine going forward.\n",
    "<br><br>\n",
    "However, taking into account both results, it seems clear that the **monetary goal** plays a large role in the success of a campaign, as does the **sub-category** and **days spent making campaign**. *Staff pick* remains inconclusive for now; it seems odd that, when 84% of staff picks get funded, it would have such a small feature importance in the Random Forest Classifier."
   ]
  },
  {
   "cell_type": "markdown",
   "metadata": {},
   "source": [
    "## Next Steps\n",
    "\n",
    "There are additional data features that I would like to include in the future to move this study to the next level:\n",
    "* Suggested pledge amounts\n",
    "    * Number of different suggestions\n",
    "    * Pledge suggestion as percent of goal\n",
    "* Rewards offered / reward thresholds (not sure the best way to quantify/normalize this)\n",
    "* Campaign page contents (videos, photos, charts, graphics, description, etc.....also not sure how to quantify/measure this)\n",
    "\n",
    "From Kickstarter blog:<br>\n",
    "https://www.kickstarter.com/blog/trends-in-pricing-and-duration"
   ]
  },
  {
   "cell_type": "code",
   "execution_count": null,
   "metadata": {},
   "outputs": [],
   "source": []
  }
 ],
 "metadata": {
  "kernelspec": {
   "display_name": "Python 3",
   "language": "python",
   "name": "python3"
  },
  "language_info": {
   "codemirror_mode": {
    "name": "ipython",
    "version": 3
   },
   "file_extension": ".py",
   "mimetype": "text/x-python",
   "name": "python",
   "nbconvert_exporter": "python",
   "pygments_lexer": "ipython3",
   "version": "3.6.5"
  }
 },
 "nbformat": 4,
 "nbformat_minor": 2
}
